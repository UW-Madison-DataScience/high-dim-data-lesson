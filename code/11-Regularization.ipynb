{
 "cells": [
  {
   "cell_type": "markdown",
   "id": "52aa248e-4aa2-4bc3-94fa-73104182344a",
   "metadata": {},
   "source": [
    "---\n",
    "title: \n",
    "teaching: 45\n",
    "exercises: 2\n",
    "keypoints:\n",
    "- \"\"\n",
    "objectives:\n",
    "- \"\"\n",
    "questions:\n",
    "- \"\"\n",
    "---"
   ]
  }
 ],
 "metadata": {
  "kernelspec": {
   "display_name": "Python 3 (ipykernel)",
   "language": "python",
   "name": "python3"
  },
  "language_info": {
   "codemirror_mode": {
    "name": "ipython",
    "version": 3
   },
   "file_extension": ".py",
   "mimetype": "text/x-python",
   "name": "python",
   "nbconvert_exporter": "python",
   "pygments_lexer": "ipython3",
   "version": "3.11.3"
  }
 },
 "nbformat": 4,
 "nbformat_minor": 5
}
