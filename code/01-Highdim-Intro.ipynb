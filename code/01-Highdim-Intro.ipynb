{
 "cells": [
  {
   "cell_type": "markdown",
   "metadata": {
    "slideshow": {
     "slide_type": "slide"
    }
   },
   "source": [
    "# High Dimensional Data Analysis Day 1"
   ]
  },
  {
   "cell_type": "markdown",
   "metadata": {
    "slideshow": {
     "slide_type": "skip"
    }
   },
   "source": [
    "---\n",
    "title: \"Exploring High Dimensional Data\"\n",
    "teaching: 0\n",
    "exercises: 5\n",
    "questions:\n",
    "- \"Key question (FIXME)\"\n",
    "objectives:\n",
    "- \"Provide intellectual access to discussions of information-age high dimensional data(sets)\"\n",
    "- \"Define, identify, and give examples of high dimensional datasets\"\n",
    "- \"Summarize the dimensionality of a dataset\"\n",
    "- \"Explain best practices for how to organize / structure high dim data for reuse\"\n",
    "- \"Demonstrate at least one method to visualize, and explore a high-dimensional dataset\"\n",
    "- \"Describe how high dimensional data visualization and analysis can reveal a research story in noisy data.\"\n",
    "- \"Explain how to form lower dimensional descriptions/abstractions of high dimensional data\"\n",
    "- \"Identify and explain at least one possible method and use-case for reducing dimensionality\"\n",
    "keypoints:\n",
    "- \"First key point. Brief Answer to questions. (FIXME)\"\n",
    "---\n",
    "\n",
    "\n"
   ]
  },
  {
   "cell_type": "markdown",
   "metadata": {},
   "source": [
    "## Contents of this lesson\n",
    "1. Describe how high dimensional data visualization and analysis can reveal a research story in noisy data.\n",
    "9. Exercise - Using your plots or new plots How can you grasp what signal is present in a 13 dimensional dataset? What does each dimension contribute?\n",
    "10. Discussion: what story or stories seem to be in this data?\n",
    "4. Explain how to form lower dimensional descriptions/abstractions of high dimensional data\n",
    "11. Exercise - how would you simplify a dataset?\n",
    "22. Are there dimensions that don’t seem to add anything?\n",
    "23. What new representations could you choose?\n",
    "24.  movie, radio pulses, customer dataset\n",
    "5. Solution\n",
    "1. Movie\n",
    "1. Average color value of every frame’s px\n",
    "2. reviews of the movie\n",
    "2. radio signals - just take max amplitude?\n",
    "3. Customer table - choose specific features?\n",
    "6. Note these approaches are lossy compression\n",
    "\n",
    "5. Identify and explain at least one possible method and use-case for reducing dimensionality\n",
    "    12. PCA concept slides\n",
    "    13. Visualization webpage: [https://setosa.io/ev/principal-component-analysis/](https://setosa.io/ev/principal-component-analysis/)\n",
    "    14. Live coding:\n",
    "        Apply PCA to breast cancer data set\n",
    "    15. Exercise\n",
    "    25. Apply PCA to breast cancer data set\n",
    "    26. Vary parameters\n",
    "    27. What effects do you notice\n",
    "6. Describe how PCA can help you tell a story about a high dimensional dataset\n",
    "16. Show story/signal with PCA result\n",
    "28. malignant/benign definition.\n",
    "\n"
   ]
  },
  {
   "cell_type": "markdown",
   "metadata": {
    "slideshow": {
     "slide_type": "slide"
    }
   },
   "source": [
    "# Introduction - what is high dimensional data?"
   ]
  },
  {
   "cell_type": "markdown",
   "metadata": {
    "slideshow": {
     "slide_type": "slide"
    }
   },
   "source": [
    "# What is data?"
   ]
  },
  {
   "cell_type": "markdown",
   "metadata": {
    "slideshow": {
     "slide_type": "subslide"
    }
   },
   "source": [
    "# da·ta\n",
    "/ˈdadə,ˈdādə/\n",
    "_noun_\n",
    "\"the quantities, characters, or symbols on which operations are performed by a computer\"\n",
    "\n",
    "—Oxford Languages\n"
   ]
  },
  {
   "cell_type": "markdown",
   "metadata": {
    "slideshow": {
     "slide_type": "subslide"
    }
   },
   "source": [
    "(how is data formatted? structured, semi-structured, unstructured: flat file, json, raw text)"
   ]
  },
  {
   "cell_type": "markdown",
   "metadata": {
    "slideshow": {
     "slide_type": "fragment"
    }
   },
   "source": [
    "There is a conversion to numerical representation happening here"
   ]
  },
  {
   "cell_type": "markdown",
   "metadata": {
    "slideshow": {
     "slide_type": "fragment"
    }
   },
   "source": [
    "A rectangular dataset:\n",
    "Original data set not rectangular, might require conversion that produces high dimensional rectangular data set."
   ]
  },
  {
   "cell_type": "markdown",
   "metadata": {
    "slideshow": {
     "slide_type": "fragment"
    }
   },
   "source": [
    "We’re discussing structured, rectangular data only today."
   ]
  },
  {
   "cell_type": "markdown",
   "metadata": {
    "slideshow": {
     "slide_type": "slide"
    }
   },
   "source": [
    "# What is a dimension?"
   ]
  },
  {
   "cell_type": "markdown",
   "metadata": {
    "slideshow": {
     "slide_type": "subslide"
    }
   },
   "source": [
    "# di·men·sion\n",
    "/dəˈmen(t)SH(ə)n,dīˈmen(t)SH(ə)n/\n",
    "\n",
    "_noun_\n",
    "noun: __dimension__; plural noun: __dimensions__\n",
    "1. a measurable extent of some kind, such as length, breadth, depth, or height.\n",
    "2. an aspect or feature of a situation, problem, or thing.\n",
    "\n",
    "—Oxford Languages"
   ]
  },
  {
   "cell_type": "markdown",
   "metadata": {
    "slideshow": {
     "slide_type": "subslide"
    }
   },
   "source": [
    "# A Tabular/Rectangular Data Context\n",
    "<!-- ![Table](../fig/day_1/tabular_data.png) -->\n",
    "<p>\n",
    "<center>\n",
    "<img\n",
    "    src = \"../fig/day_1/tabular_data.png\"\n",
    "    alt = 'A Schematic of the arrangement of Tabular Data with columns/features rows/observations'\n",
    "/>\n",
    "</center>"
   ]
  },
  {
   "cell_type": "markdown",
   "metadata": {
    "slideshow": {
     "slide_type": "subslide"
    }
   },
   "source": [
    "\n",
    "# A Row is an Observation\n",
    "<p div='image'>\n",
    "<center>\n",
    "<img src=\"../fig/day_1/tabular_data_row_highlight.png\"\n",
    "     />\n",
    "</center>\n",
    "<p>"
   ]
  },
  {
   "cell_type": "markdown",
   "metadata": {
    "slideshow": {
     "slide_type": "subslide"
    }
   },
   "source": [
    "# A Column is a Feature is a Dimension\n",
    "<p>\n",
    "<center>\n",
    "<img src=\"../fig/day_1/tabular_data_dim_highlight.png\"/>\n",
    "</center>"
   ]
  },
  {
   "cell_type": "markdown",
   "metadata": {
    "slideshow": {
     "slide_type": "subslide"
    }
   },
   "source": [
    "# The Index is not a Dimension\n",
    "<p>\n",
    "<center>\n",
    "<img src=\"../fig/day_1/tabular_data_idx_highlight.png\"/>\n",
    "</center>"
   ]
  },
  {
   "cell_type": "markdown",
   "metadata": {
    "slideshow": {
     "slide_type": "slide"
    }
   },
   "source": [
    "# Examples of datasets with increasing dimensionality\n",
    "    \n",
    "1. There are some number of observations\n",
    "2. every feature of an observation is a dimension\n",
    "3. the number of observations is not a dimension\n",
    "   \n"
   ]
  },
  {
   "cell_type": "markdown",
   "metadata": {},
   "source": [
    "\n",
    "# 1 D\n",
    "\n",
    "1. likert scale question (index: respondent_id, question value(-3 to 3)"
   ]
  },
  {
   "cell_type": "markdown",
   "metadata": {
    "slideshow": {
     "slide_type": "subslide"
    }
   },
   "source": [
    "# 2 D\n",
    "\n",
    "1. scatter plot (x, y)\n",
    "2. two question survey (index: respondent_id, q1 answer, q2 answer)\n",
    "3. data from temperature logger: (index: logged_value_id, time, value)\n"
   ]
  },
  {
   "cell_type": "markdown",
   "metadata": {
    "slideshow": {
     "slide_type": "subslide"
    }
   },
   "source": [
    "# 3 D\n",
    "\n",
    "1. surface (x, y, z)\n",
    "2. scatter plot with variable as size per point (x, y, size)\n",
    "3. [consecutive pulses of CP 1919](https://www.wemadethis.co.uk/blog/2015/03/unknown-pleasures-and-cp-1919/) (time, x, y)\n",
    "<center>\n",
    "            <img src=\"../fig/day_1/CP1919_pulses_crop.png\"/>\n",
    "</center>\n",
    "4. 2d black and white image (x, y, pixel_value)\n",
    "5. moves log from a game of 'battleship' (move number, x coord, y coord, hit or not)"
   ]
  },
  {
   "cell_type": "markdown",
   "metadata": {
    "slideshow": {
     "slide_type": "subslide"
    }
   },
   "source": [
    "## Battle ship moves: \n",
    "### discussion point is this 3d or 4d?\n",
    "\n",
    "is the move number a dimension or an index?\n",
    "\n",
    "\n",
    "|move_id|column (A-J)|row (1-10)| hit |\n",
    "| :-: | :-: | :-: | :- |\n",
    "|0|A|1|False|\n",
    "|1|J|10|True|\n",
    "|2|C|7|False|\n",
    "|n|...|...|\n",
    "\n",
    "\n",
    "\n"
   ]
  },
  {
   "cell_type": "markdown",
   "metadata": {
    "slideshow": {
     "slide_type": "fragment"
    }
   },
   "source": [
    "### it's an index!\n",
    "1. order sequence matters but not the specific value of the move number\n"
   ]
  },
  {
   "cell_type": "markdown",
   "metadata": {
    "slideshow": {
     "slide_type": "fragment"
    }
   },
   "source": [
    "### it's a dimension!\n",
    "1. odd or even tells you which player is making which move\n",
    "2. order sequence is important, but when a specific moves get made might matter - what if you wanted to analyze moves as a function of game length?\n"
   ]
  },
  {
   "cell_type": "markdown",
   "metadata": {
    "slideshow": {
     "slide_type": "subslide"
    }
   },
   "source": [
    "### There is always an index\n",
    "\n",
    "1. it is an index \n",
    "2. that doesn't mean there is no information there\n",
    "2. you can perform some feature extraction on the index\n",
    "4. this would up the dimensionality of the inital 2d dataset:\n",
    "    1. player\n",
    "    2. player's move number"
   ]
  },
  {
   "cell_type": "markdown",
   "metadata": {
    "slideshow": {
     "slide_type": "subslide"
    }
   },
   "source": [
    "# consider a short, black and white, silent film, in 4K:\n",
    "\n",
    "It has the following properties:\n",
    "1. 1 minute long\n",
    "1. 25 frames per second\n",
    "2. [4K resolution](https://en.wikipedia.org/wiki/4K_resolution) is 4096 × 2160.\n",
    "3. standard color depth 24 bits/pixel\n",
    "\n"
   ]
  },
  {
   "cell_type": "markdown",
   "metadata": {
    "slideshow": {
     "slide_type": "fragment"
    }
   },
   "source": [
    "## How many observations are there?"
   ]
  },
  {
   "cell_type": "markdown",
   "metadata": {
    "slideshow": {
     "slide_type": "fragment"
    }
   },
   "source": [
    " 60 seconds x 25 frames per second = 1500 frames or 'observations'."
   ]
  },
  {
   "cell_type": "markdown",
   "metadata": {
    "slideshow": {
     "slide_type": "fragment"
    }
   },
   "source": [
    "## what dimensions could there be per observation?"
   ]
  },
  {
   "cell_type": "markdown",
   "metadata": {
    "slideshow": {
     "slide_type": "fragment"
    }
   },
   "source": [
    "1. pixel row (0-2159)\n",
    "2. pixel col (0-4095)\n",
    "3. pixel grey value (0-255)"
   ]
  },
  {
   "cell_type": "markdown",
   "metadata": {
    "slideshow": {
     "slide_type": "subslide"
    }
   },
   "source": [
    "## would the dimensions change if the film was longer or shorter?"
   ]
  },
  {
   "cell_type": "markdown",
   "metadata": {
    "slideshow": {
     "slide_type": "fragment"
    }
   },
   "source": [
    "1. The dimensions would NOT change. \n",
    "2. There would simply be a greater or fewer number of 'observations'"
   ]
  },
  {
   "cell_type": "markdown",
   "metadata": {
    "slideshow": {
     "slide_type": "subslide"
    }
   },
   "source": [
    "## what if it was a color film?"
   ]
  },
  {
   "cell_type": "markdown",
   "metadata": {
    "slideshow": {
     "slide_type": "fragment"
    }
   },
   "source": [
    "yes - there are more dimensions/features per observation now.\n",
    "\n",
    "1. pixel row (0-2159)\n",
    "2. pixel col (0-4095)\n",
    "3. pixel red value (0-255)\n",
    "4. pixel green value (0-255)\n",
    "5. pixel blue value (0-255)"
   ]
  },
  {
   "cell_type": "markdown",
   "metadata": {
    "slideshow": {
     "slide_type": "subslide"
    }
   },
   "source": [
    "# 4 D\n",
    "1. surface plus coloration, (x, y, z, color_label)\n",
    "3. surface change over time (x, y, z, time)"
   ]
  },
  {
   "cell_type": "markdown",
   "metadata": {
    "slideshow": {
     "slide_type": "subslide"
    }
   },
   "source": [
    "# 30 D\n",
    "\n",
    "\n",
    "2. Brain connectivity analysis of 30 regions"
   ]
  },
  {
   "cell_type": "markdown",
   "metadata": {},
   "source": [
    "# 20, 000 D - human gene expression\n",
    "\n",
    "<p>\n",
    "<center>\n",
    "<img src=\"../fig/day_1/DNA_microarray_DrJasonKangNCIFlicker.jpg\"/>\n",
    "</center>\n"
   ]
  },
  {
   "cell_type": "markdown",
   "metadata": {
    "slideshow": {
     "slide_type": "subslide"
    }
   },
   "source": [
    "## Exercise 1: examine Titanic dataset\n",
    "\n",
    "* what about the data are you using? or a dataset you know about? e.g. kaggle [Titantic Dataset](https://www.kaggle.com/competitions/titanic/data)?\n",
    "\n",
    "1. What columns are the index?\n",
    "2. What columns are the dimensions?\n",
    "3. how many dimensions are ther?\n",
    "4. is there extra information in the index that could be an additional feature?\n"
   ]
  },
  {
   "cell_type": "code",
   "execution_count": 1,
   "metadata": {
    "slideshow": {
     "slide_type": "subslide"
    }
   },
   "outputs": [
    {
     "ename": "FileNotFoundError",
     "evalue": "[Errno 2] No such file or directory: '../files/day_1_titanic_table.html'",
     "output_type": "error",
     "traceback": [
      "\u001b[1;31m---------------------------------------------------------------------------\u001b[0m",
      "\u001b[1;31mFileNotFoundError\u001b[0m                         Traceback (most recent call last)",
      "Cell \u001b[1;32mIn[1], line 1\u001b[0m\n\u001b[1;32m----> 1\u001b[0m \u001b[38;5;28;01mwith\u001b[39;00m \u001b[38;5;28mopen\u001b[39m(\u001b[38;5;124m'\u001b[39m\u001b[38;5;124m../files/day_1_titanic_table.html\u001b[39m\u001b[38;5;124m'\u001b[39m, \u001b[38;5;124m'\u001b[39m\u001b[38;5;124mr\u001b[39m\u001b[38;5;124m'\u001b[39m) \u001b[38;5;28;01mas\u001b[39;00m f:\n\u001b[0;32m      2\u001b[0m     table \u001b[38;5;241m=\u001b[39m \u001b[38;5;124m'\u001b[39m\u001b[38;5;124m'\u001b[39m\u001b[38;5;241m.\u001b[39mjoin(f\u001b[38;5;241m.\u001b[39mreadlines())\n\u001b[0;32m      3\u001b[0m HTML(table)\n",
      "File \u001b[1;32m~\\anaconda3\\envs\\highdim_workshop\\Lib\\site-packages\\IPython\\core\\interactiveshell.py:284\u001b[0m, in \u001b[0;36m_modified_open\u001b[1;34m(file, *args, **kwargs)\u001b[0m\n\u001b[0;32m    277\u001b[0m \u001b[38;5;28;01mif\u001b[39;00m file \u001b[38;5;129;01min\u001b[39;00m {\u001b[38;5;241m0\u001b[39m, \u001b[38;5;241m1\u001b[39m, \u001b[38;5;241m2\u001b[39m}:\n\u001b[0;32m    278\u001b[0m     \u001b[38;5;28;01mraise\u001b[39;00m \u001b[38;5;167;01mValueError\u001b[39;00m(\n\u001b[0;32m    279\u001b[0m         \u001b[38;5;124mf\u001b[39m\u001b[38;5;124m\"\u001b[39m\u001b[38;5;124mIPython won\u001b[39m\u001b[38;5;124m'\u001b[39m\u001b[38;5;124mt let you open fd=\u001b[39m\u001b[38;5;132;01m{\u001b[39;00mfile\u001b[38;5;132;01m}\u001b[39;00m\u001b[38;5;124m by default \u001b[39m\u001b[38;5;124m\"\u001b[39m\n\u001b[0;32m    280\u001b[0m         \u001b[38;5;124m\"\u001b[39m\u001b[38;5;124mas it is likely to crash IPython. If you know what you are doing, \u001b[39m\u001b[38;5;124m\"\u001b[39m\n\u001b[0;32m    281\u001b[0m         \u001b[38;5;124m\"\u001b[39m\u001b[38;5;124myou can use builtins\u001b[39m\u001b[38;5;124m'\u001b[39m\u001b[38;5;124m open.\u001b[39m\u001b[38;5;124m\"\u001b[39m\n\u001b[0;32m    282\u001b[0m     )\n\u001b[1;32m--> 284\u001b[0m \u001b[38;5;28;01mreturn\u001b[39;00m io_open(file, \u001b[38;5;241m*\u001b[39margs, \u001b[38;5;241m*\u001b[39m\u001b[38;5;241m*\u001b[39mkwargs)\n",
      "\u001b[1;31mFileNotFoundError\u001b[0m: [Errno 2] No such file or directory: '../files/day_1_titanic_table.html'"
     ]
    }
   ],
   "source": [
    "with open('../files/day_1_titanic_table.html', 'r') as f:\n",
    "    table = ''.join(f.readlines())\n",
    "HTML(table)"
   ]
  },
  {
   "cell_type": "markdown",
   "metadata": {
    "slideshow": {
     "slide_type": "subslide"
    }
   },
   "source": [
    "## Answers\n",
    "\n",
    "1. index: passenger_id is the index\n",
    "2. dimensons = pclass \tname \tsex \tage \tsibsp \tparch \tticket \tfare \tcabin \tembarked \tboat \tbody \thome.dest \tsurvived\n",
    "3. 14 total dimensions\n",
    "4. not at first glance - check data dict."
   ]
  },
  {
   "cell_type": "markdown",
   "metadata": {},
   "source": [
    "##  Exercise 2: imagine building a model to predict survival on the titantic\n",
    "1. would you use every dimension?\n",
    "2. what makes a dimension useful?\n",
    "3. could you remove some dimensions?\n",
    "4. could you combine some dimensions?\n",
    "5. how would you combine those dimensions?\n",
    "6. do you have fewer dimensions after combining?\n",
    "7. do you have less information after combining?\n",
    "\n",
    "\n"
   ]
  },
  {
   "cell_type": "markdown",
   "metadata": {},
   "source": [
    "1. no, some variables are poor predictors and can be ignored\n",
    "2. if it is (anti-)correlated with survival i.e. has information."
   ]
  },
  {
   "cell_type": "markdown",
   "metadata": {
    "slideshow": {
     "slide_type": "slide"
    }
   },
   "source": [
    "# End of part 1\n",
    "\n",
    "## We reviewed:\n",
    "\n",
    "1. what is data\n",
    "2. what is a dimension\n",
    "3. an index is not a dimension\n",
    "4. examples of datasets of different dimensinoality\n",
    "5. examined dimensionality of the titantic dataset\n",
    "\n",
    "in part two we'll start exploring a new dataset"
   ]
  },
  {
   "cell_type": "code",
   "execution_count": null,
   "metadata": {},
   "outputs": [],
   "source": []
  }
 ],
 "metadata": {
  "celltoolbar": "Slideshow",
  "kernelspec": {
   "display_name": "Python 3 (ipykernel)",
   "language": "python",
   "name": "python3"
  },
  "language_info": {
   "codemirror_mode": {
    "name": "ipython",
    "version": 3
   },
   "file_extension": ".py",
   "mimetype": "text/x-python",
   "name": "python",
   "nbconvert_exporter": "python",
   "pygments_lexer": "ipython3",
   "version": "3.11.3"
  }
 },
 "nbformat": 4,
 "nbformat_minor": 4
}
