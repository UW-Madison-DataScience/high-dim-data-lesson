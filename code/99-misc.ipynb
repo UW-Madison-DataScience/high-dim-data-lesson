{
 "cells": [
  {
   "cell_type": "code",
   "execution_count": null,
   "id": "deebdd0d-489e-40a1-acba-9b46d55f6a42",
   "metadata": {},
   "outputs": [],
   "source": [
    "from traitlets.config.manager import BaseJSONConfigManager\n",
    "from pathlib import Path\n",
    "path = Path.home() / \".jupyter\" / \"nbconfig\"\n",
    "cm = BaseJSONConfigManager(config_dir=str(path))\n",
    "cm.update(\n",
    "    \"rise\",\n",
    "    {\n",
    "        \"theme\": \"black\",\n",
    "        \"transition\": None,\n",
    "        \"start_slideshow_at\": \"selected\",\n",
    "        \"enable_chalkboard\": True,\n",
    "        \"chalkboard\": {\n",
    "            \"color\": [\"rgb(225, 193, 7)\", \"rgb(30, 136, 229)\"]\n",
    "        },\n",
    "     }\n",
    ")"
   ]
  }
 ],
 "metadata": {
  "kernelspec": {
   "display_name": "Python 3 (ipykernel)",
   "language": "python",
   "name": "python3"
  },
  "language_info": {
   "codemirror_mode": {
    "name": "ipython",
    "version": 3
   },
   "file_extension": ".py",
   "mimetype": "text/x-python",
   "name": "python",
   "nbconvert_exporter": "python",
   "pygments_lexer": "ipython3",
   "version": "3.11.3"
  }
 },
 "nbformat": 4,
 "nbformat_minor": 5
}
