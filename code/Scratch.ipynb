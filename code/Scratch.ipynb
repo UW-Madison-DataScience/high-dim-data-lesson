{
 "cells": [
  {
   "cell_type": "markdown",
   "id": "dd373c47-b3b1-414e-81be-ecaeb5a8502b",
   "metadata": {},
   "source": [
    "### Sparse columns\n",
    "Dealing with sparse columns/features... \n",
    "- could just remove very sparse features\n",
    "- stratify train/test split based on all features -- not just the target variable\n",
    "- other options?"
   ]
  },
  {
   "cell_type": "code",
   "execution_count": 1,
   "id": "ae7b07d8-ad4b-4e61-ac2c-4af6de164400",
   "metadata": {},
   "outputs": [
    {
     "ename": "NameError",
     "evalue": "name 'X_train' is not defined",
     "output_type": "error",
     "traceback": [
      "\u001b[1;31m------------------------------------------------------------------\u001b[0m",
      "\u001b[1;31mNameError\u001b[0m                        Traceback (most recent call last)",
      "\u001b[1;32m<ipython-input-1-e4c195afecc7>\u001b[0m in \u001b[0;36m<module>\u001b[1;34m\u001b[0m\n\u001b[1;32m----> 1\u001b[1;33m \u001b[0mprint\u001b[0m\u001b[1;33m(\u001b[0m\u001b[0mX_train\u001b[0m\u001b[1;33m[\u001b[0m\u001b[1;34m'Condition2_PosA'\u001b[0m\u001b[1;33m]\u001b[0m\u001b[1;33m.\u001b[0m\u001b[0mmax\u001b[0m\u001b[1;33m(\u001b[0m\u001b[1;33m)\u001b[0m\u001b[1;33m)\u001b[0m\u001b[1;33m\u001b[0m\u001b[1;33m\u001b[0m\u001b[0m\n\u001b[0m\u001b[0;32m      2\u001b[0m \u001b[0mprint\u001b[0m\u001b[1;33m(\u001b[0m\u001b[0mX_test\u001b[0m\u001b[1;33m[\u001b[0m\u001b[1;34m'Condition2_PosA'\u001b[0m\u001b[1;33m]\u001b[0m\u001b[1;33m.\u001b[0m\u001b[0mmax\u001b[0m\u001b[1;33m(\u001b[0m\u001b[1;33m)\u001b[0m\u001b[1;33m)\u001b[0m\u001b[1;33m\u001b[0m\u001b[1;33m\u001b[0m\u001b[0m\n\u001b[0;32m      3\u001b[0m \u001b[0mX\u001b[0m\u001b[1;33m[\u001b[0m\u001b[1;34m'Condition2_PosA'\u001b[0m\u001b[1;33m]\u001b[0m\u001b[1;33m.\u001b[0m\u001b[0mdescribe\u001b[0m\u001b[1;33m(\u001b[0m\u001b[1;33m)\u001b[0m\u001b[1;33m\u001b[0m\u001b[1;33m\u001b[0m\u001b[0m\n\u001b[0;32m      4\u001b[0m \u001b[0mX\u001b[0m\u001b[1;33m[\u001b[0m\u001b[1;34m'Condition2_PosA'\u001b[0m\u001b[1;33m]\u001b[0m\u001b[1;33m.\u001b[0m\u001b[0mhist\u001b[0m\u001b[1;33m(\u001b[0m\u001b[0mbins\u001b[0m\u001b[1;33m=\u001b[0m\u001b[1;36m20\u001b[0m\u001b[1;33m)\u001b[0m\u001b[1;33m\u001b[0m\u001b[1;33m\u001b[0m\u001b[0m\n\u001b[0;32m      5\u001b[0m \u001b[0mX\u001b[0m\u001b[1;33m[\u001b[0m\u001b[1;34m'Condition2_PosA'\u001b[0m\u001b[1;33m]\u001b[0m\u001b[1;33m.\u001b[0m\u001b[0munique\u001b[0m\u001b[1;33m(\u001b[0m\u001b[1;33m)\u001b[0m\u001b[1;33m\u001b[0m\u001b[1;33m\u001b[0m\u001b[0m\n",
      "\u001b[1;31mNameError\u001b[0m: name 'X_train' is not defined"
     ]
    }
   ],
   "source": [
    "print(X_train['Condition2_PosA'].max())\n",
    "print(X_test['Condition2_PosA'].max())\n",
    "X['Condition2_PosA'].describe()\n",
    "X['Condition2_PosA'].hist(bins=20)\n",
    "X['Condition2_PosA'].unique()\n",
    "# X['Condition2_PosA'].count()\n",
    "X['Condition2_PosA'].value_counts()"
   ]
  },
  {
   "cell_type": "code",
   "execution_count": null,
   "id": "40e5894a-da97-4b91-953d-4f40d51c85ce",
   "metadata": {},
   "outputs": [],
   "source": [
    "from scipy import stats\n",
    "from scipy.stats import norm\n",
    "def normality_plot(X):\n",
    "    \"\"\"\n",
    "    1. Draw distribution plot with normal distribution fitted curve\n",
    "    2. Draw Quantile-Quantile plot \n",
    "    \"\"\"\n",
    "    fig, axes = plt.subplots(1, 2, figsize=(10, 5))\n",
    "\n",
    "    sns.distplot(X, fit=norm, ax=axes[0])\n",
    "    axes[0].set_title('Distribution Plot')\n",
    "\n",
    "    axes[1] = stats.probplot((X), plot=plt)\n",
    "    plt.tight_layout()\n",
    "\n",
    "normality_plot(y)"
   ]
  },
  {
   "cell_type": "markdown",
   "id": "3a778c5c-1c92-4abb-9231-922c8b086391",
   "metadata": {},
   "source": [
    "#### Zscore target variable as well"
   ]
  },
  {
   "cell_type": "code",
   "execution_count": 3,
   "id": "4d9187e3-a549-4a03-9275-dc428e634778",
   "metadata": {},
   "outputs": [],
   "source": [
    "y_train_zscore = y_train.copy(deep=True) # dig into this\n",
    "y_train_zscore, target_mean, target_std = zscore_train(y_train_zscore.to_frame())\n",
    "# convert y's back to pandas series\n",
    "y_train_zscore=y_train_zscore.squeeze()\n",
    "y_train_zscore.head()"
   ]
  },
  {
   "cell_type": "code",
   "execution_count": null,
   "id": "df6db47f-b551-4f0c-a05e-b475588c2f4c",
   "metadata": {},
   "outputs": [],
   "source": [
    "y_test_zscore = y_test.copy(deep=True) # dig into this\n",
    "y_test_zscore = zscore_test(y_test_zscore.to_frame(), target_mean, target_std)\n",
    "# convert y's back to pandas series\n",
    "y_test_zscore=y_test_zscore.squeeze()\n",
    "y_test_zscore.head()"
   ]
  },
  {
   "cell_type": "code",
   "execution_count": null,
   "id": "28ea149d-513e-4d49-b13e-be823261af41",
   "metadata": {},
   "outputs": [],
   "source": [
    "# We'll reference the target mean and std. later on. Since these objects are currently dictionaries, and we only have one key ('SalePrice'), we'll overwrite these dictionaries to store just their values\n",
    "target_mean = target_mean['SalePrice']\n",
    "target_std = target_std['SalePrice']"
   ]
  },
  {
   "cell_type": "markdown",
   "id": "923bac3b-6e65-42db-a180-20cd7c0b6e5b",
   "metadata": {},
   "source": [
    "#### Sanity check zscoring worked"
   ]
  },
  {
   "cell_type": "code",
   "execution_count": null,
   "id": "956f3038-2a07-4d5b-8329-602b41fe51ad",
   "metadata": {},
   "outputs": [],
   "source": [
    "# sanity check - some precision error difference I believe brought on by np.mean and np.std\n",
    "import pandas as pd\n",
    "from scipy.stats import zscore\n",
    "X_zscored = X_train.apply(zscore)\n",
    "y_zscored = pd.Series(zscore(y_train, 0))\n",
    "X_zscored.head()\n",
    "# y_zscored.head()\n",
    "# negligible difference\n",
    "plt.scatter(x=np.arange(0,len(y_train)),y=y_train_zscore,alpha=1)\n",
    "plt.scatter(x=np.arange(0,len(y_train)),y=y_zscored,alpha=1, s=10)\n"
   ]
  }
 ],
 "metadata": {
  "kernelspec": {
   "display_name": "Python 3",
   "language": "python",
   "name": "python3"
  },
  "language_info": {
   "codemirror_mode": {
    "name": "ipython",
    "version": 3
   },
   "file_extension": ".py",
   "mimetype": "text/x-python",
   "name": "python",
   "nbconvert_exporter": "python",
   "pygments_lexer": "ipython3",
   "version": "3.8.8"
  }
 },
 "nbformat": 4,
 "nbformat_minor": 5
}
