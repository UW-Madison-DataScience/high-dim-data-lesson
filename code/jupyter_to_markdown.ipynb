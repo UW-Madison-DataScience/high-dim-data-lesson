{
 "cells": [
  {
   "cell_type": "code",
   "execution_count": 10,
   "id": "bdd6a9dc-1f44-46ca-bacb-3fec158bc91d",
   "metadata": {},
   "outputs": [],
   "source": [
    "import nbformat\n",
    "from nbconvert import MarkdownExporter\n",
    "import re\n",
    "def convert_ipynb_to_md(ipynb_file, md_file):\n",
    "    with open(ipynb_file, 'r', encoding='utf-8') as f:\n",
    "        nb = nbformat.read(f, nbformat.NO_CONVERT)\n",
    "\n",
    "    exporter = MarkdownExporter()\n",
    "    body, resources = exporter.from_notebook_node(nb)\n",
    "\n",
    "    # Remove any pngs added simply from output of notebook (images should be explicity pulled from figs subdirectory)\n",
    "    pattern = r'!\\[png\\]\\(output.*\\.png\\)'\n",
    "    body = re.sub(pattern, '', body)\n",
    "\n",
    "    with open(md_file, 'w', encoding='utf-8') as f:\n",
    "        f.write(body)\n",
    "\n",
    "\n"
   ]
  },
  {
   "cell_type": "markdown",
   "id": "8b0a59b8-410f-42c7-a3c5-3fe20a386b7d",
   "metadata": {},
   "source": [
    "The below code will format any exercises in a markdown file to jekyll format. For the conversion to work, exercises need to be formatted as follows in markdown or ipython files...\n",
    "```\n",
    "#### EXERCISE_START: Name Of Exercise\n",
    "line1 of exercise body (instructions for exercise)\n",
    "line2 of exercise body (instructions for exercise)\n",
    "...\n",
    "##### CODE_START\n",
    "print('hello')\n",
    "print('goodbye')\n",
    "##### CODE_END\n",
    "lineN of exercise body (instructions for exercise)\n",
    "#### EXERCISE_SOLUTION \n",
    "line1 of solution \n",
    "line2 of solution \n",
    "...\n",
    "lineN of solution\n",
    "#### EXERCISE_END \n",
    "```\n",
    "\n",
    "Note\n",
    "- beginning of exercise, solution, and end are indicated by a single hashtag followed by the location tag name\n",
    "- make sure to captitalize all letters of EXERCISE_START, EXERCISE_SOLUTION, and EXERCISE_END\n",
    "\n",
    "Code formatting in exercises...\n",
    "> ~~~\n",
    "> it may include some code\n",
    "> ~~~\n",
    "> {: .source}"
   ]
  },
  {
   "cell_type": "code",
   "execution_count": 27,
   "id": "18fffa09-72f2-484d-906f-69263a9516f4",
   "metadata": {},
   "outputs": [],
   "source": [
    "def convert_exercises(input_file, save_output):\n",
    "    print('hello')\n",
    "    converted_lines = []\n",
    "    in_start = False\n",
    "    in_solution = False\n",
    "    # in_code = False\n",
    "    edits_made = False\n",
    "    with open(input_file, 'r', encoding='utf-8') as file:\n",
    "        for line in file:\n",
    "            if line.startswith(\"#### EXERCISE_START:\"):\n",
    "                edits_made = True\n",
    "                in_start = True\n",
    "                exercise_name = line.strip().replace(\"#### EXERCISE_START:\", \"\").strip()\n",
    "                if not save_output:\n",
    "                    print('FORMATTING EXERCISE:',  exercise_name)\n",
    "                converted_lines.append(f\"> ## {exercise_name}\")\n",
    "            elif line.startswith(\"#### EXERCISE_SOLUTION\"):\n",
    "                edits_made = True\n",
    "                in_start = False\n",
    "                in_solution = True\n",
    "                converted_lines.append(\"> > ## Solution\")\n",
    "                converted_lines.append(\"> >\")\n",
    "            elif line.startswith(\"#### EXERCISE_END\"):\n",
    "                edits_made = True\n",
    "                in_solution = False\n",
    "                converted_lines.append(\"> {:.solution}\\n{:.challenge}\")\n",
    "                converted_lines.append(\"\")\n",
    "            elif line.startswith(\"##### CODE_START\"):\n",
    "                # in_code = True\n",
    "                code_start_line = line.strip().replace(\"##### CODE_START\", \"~~~\").strip()\n",
    "                if in_start:\n",
    "                    converted_lines.append(f\"> {code_start_line}\")\n",
    "                elif in_solution:\n",
    "                    converted_lines.append(f\"> > {code_start_line}\")\n",
    "            elif line.startswith(\"##### CODE_END\"):\n",
    "                # in_code = True\n",
    "                code_end_line1 = line.strip().replace(\"##### CODE_END\", \"~~~\").strip()\n",
    "                code_end_line2 = \"{: .python}\"\n",
    "                if in_start:\n",
    "                    converted_lines.append(f\"> {code_end_line1}\")\n",
    "                    converted_lines.append(f\"> {code_end_line2}\")\n",
    "                elif in_solution:\n",
    "                    converted_lines.append(f\"> > {code_end_line1}\")\n",
    "                    converted_lines.append(f\"> {code_end_line2}\")\n",
    "            elif in_start:\n",
    "                converted_lines.append(f\"> {line.strip()}\")\n",
    "            elif in_solution:\n",
    "                converted_lines.append(f\"> > {line.strip()}\")\n",
    "            else:\n",
    "                converted_lines.append(line.rstrip())\n",
    "                \n",
    "    if edits_made and save_output:\n",
    "        print('edits made')\n",
    "        with open(input_file, 'w', encoding='utf-8') as file:\n",
    "            file.write('\\n'.join(converted_lines))\n",
    "    elif edits_made:\n",
    "        print()\n",
    "        print(\"Preview of file conversion...\")\n",
    "        for line in converted_lines:\n",
    "            print(line)\n",
    "    else:\n",
    "        print('No exercises (pre-formatted) were detected in this markdown file.')\n",
    "        \n"
   ]
  },
  {
   "cell_type": "code",
   "execution_count": 32,
   "id": "8162dfa2-d190-4271-86fb-5c56930c4202",
   "metadata": {},
   "outputs": [],
   "source": [
    "# 1) specify episode being converted\n",
    "episode_name = '03-Regression-intro' \n",
    "# episode_name = '04-Regression-assumptions' "
   ]
  },
  {
   "cell_type": "code",
   "execution_count": 33,
   "id": "284d257a-42c0-47a5-a120-b1d3cfac6331",
   "metadata": {},
   "outputs": [
    {
     "data": {
      "text/plain": [
       "'C:\\\\Users\\\\Endemann\\\\Documents\\\\GitHub\\\\high-dim-data-lesson\\\\code\\\\..\\\\_episodes\\\\'"
      ]
     },
     "execution_count": 33,
     "metadata": {},
     "output_type": "execute_result"
    }
   ],
   "source": [
    "# 2) define output path - episodes folder\n",
    "import os\n",
    "curr_dir = os.getcwd()\n",
    "out_path = curr_dir + '\\\\..\\\\_episodes\\\\'\n",
    "out_path"
   ]
  },
  {
   "cell_type": "code",
   "execution_count": 34,
   "id": "d48bbc0f-6153-4dd7-be56-c145eff82e88",
   "metadata": {},
   "outputs": [],
   "source": [
    "# 3) convert to markdown\n",
    "input_ipynb_file = episode_name + '.ipynb'\n",
    "output_md_file = out_path + episode_name + '.md'\n",
    "convert_ipynb_to_md(input_ipynb_file, output_md_file) "
   ]
  },
  {
   "cell_type": "code",
   "execution_count": 36,
   "id": "d1d217fa-02b2-4487-bbee-d021c656671b",
   "metadata": {},
   "outputs": [
    {
     "name": "stdout",
     "output_type": "stream",
     "text": [
      "hello\n",
      "edits made\n"
     ]
    }
   ],
   "source": [
    "convert_exercises(output_md_file, save_output=True) "
   ]
  },
  {
   "cell_type": "code",
   "execution_count": null,
   "id": "caf4972a-a875-4bfe-8341-ee86608c5406",
   "metadata": {},
   "outputs": [],
   "source": []
  }
 ],
 "metadata": {
  "kernelspec": {
   "display_name": "Python 3 (ipykernel)",
   "language": "python",
   "name": "python3"
  },
  "language_info": {
   "codemirror_mode": {
    "name": "ipython",
    "version": 3
   },
   "file_extension": ".py",
   "mimetype": "text/x-python",
   "name": "python",
   "nbconvert_exporter": "python",
   "pygments_lexer": "ipython3",
   "version": "3.11.3"
  }
 },
 "nbformat": 4,
 "nbformat_minor": 5
}
