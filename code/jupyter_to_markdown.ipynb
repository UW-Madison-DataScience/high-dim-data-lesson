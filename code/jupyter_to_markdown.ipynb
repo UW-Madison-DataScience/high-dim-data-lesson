{
 "cells": [
  {
   "cell_type": "code",
   "execution_count": 2,
   "id": "bdd6a9dc-1f44-46ca-bacb-3fec158bc91d",
   "metadata": {},
   "outputs": [],
   "source": [
    "import nbformat\n",
    "from nbconvert import MarkdownExporter\n",
    "\n",
    "def convert_ipynb_to_md(ipynb_file, md_file):\n",
    "    with open(ipynb_file, 'r', encoding='utf-8') as f:\n",
    "        nb = nbformat.read(f, nbformat.NO_CONVERT)\n",
    "\n",
    "    exporter = MarkdownExporter()\n",
    "    body, resources = exporter.from_notebook_node(nb)\n",
    "\n",
    "    with open(md_file, 'w', encoding='utf-8') as f:\n",
    "        f.write(body)\n",
    "\n",
    "# Usage example\n",
    "episode_name = 'high_dimensional_stats_day_1-E1-Intro'\n",
    "input_ipynb_file = episode_name + '.ipynb'\n",
    "output_md_file = episode_name + '.md'\n",
    "convert_ipynb_to_md(input_ipynb_file, output_md_file)\n"
   ]
  },
  {
   "cell_type": "code",
   "execution_count": null,
   "id": "cf3da876-3b31-4a2c-949f-2b5589ea095d",
   "metadata": {},
   "outputs": [],
   "source": []
  }
 ],
 "metadata": {
  "kernelspec": {
   "display_name": "Python 3 (ipykernel)",
   "language": "python",
   "name": "python3"
  },
  "language_info": {
   "codemirror_mode": {
    "name": "ipython",
    "version": 3
   },
   "file_extension": ".py",
   "mimetype": "text/x-python",
   "name": "python",
   "nbconvert_exporter": "python",
   "pygments_lexer": "ipython3",
   "version": "3.11.3"
  }
 },
 "nbformat": 4,
 "nbformat_minor": 5
}
