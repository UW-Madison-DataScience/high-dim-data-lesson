{
 "cells": [
  {
   "cell_type": "markdown",
   "id": "5563eefb-a7e6-4dbc-ada5-674a638c0e14",
   "metadata": {},
   "source": [
    "## Goals of Linear Regression\n",
    "Linear regression is powerful technique that is often used to understand whether and how certain *predictor variables* (e.g., garage size, year built, etc.) in a dataset (linearly) relate to some *target variable* (e.g., sale prices). By modeling these relationships in the housing data, we can:\n",
    "\n",
    "1. **Explain**: Use *statistics* to make scientific claims concerning which predictor variables have the greatest impact on sale price — the target variable \n",
    "2. **Predict**: Use *predictive modeling* to predict hypothetical/future sale prices based on observed values of the predictor variables in our dataset (e.g., garage size, year built, etc.). \n",
    "\n",
    "In this lesson, we will explore how we can exploit well-established machine learning methods, including \"multivariate regression\" and \"regularization techniques\" (more on these terms later), to achieve both of the above goals. \n",
    "\n",
    "#### Predict Versus Explain: Which is more important?\n",
    "In a research setting, goal #1 (explain) typically takes higher priority over goal #2 (predict) since explainations hold high value in science, but both goals are sometimes relevant. In industry, the reverse is typically true as many industry applications place predictive accuracy above explainability. We will explore how these goals align and sometimes diverge from one another throughout this lesson."
   ]
  },
  {
   "cell_type": "markdown",
   "id": "1a5f6d0c-78b9-4968-9f24-5a7276b699b3",
   "metadata": {},
   "source": [
    "## Walk Before Running: Univariate linear regression\n",
    "Before we turn our attention towards modeling high-dimensional datasets, let's first review a few basic concepts from univariate linear modeling. The classic equation for a univariate linear regression model is shown below.\n",
    "\n",
    "$$y = mx + b$$\n",
    "\n",
    "where...\n",
    "\n",
    "* $y$ = observed values of the target variable / dependent variable / response variable\n",
    "* $x$ = observed values of the predictor variable / model feature / independent variable / explanatory variable\n",
    "* $m$ = regression slope / predictor coefficient\n",
    "* $b$ = y-intercept\n",
    "\n",
    "**Note**: It is common in the field of machine learning — which is itself a combination of several fields (math, statistics, computer science) — to use multiple terms interchangeably for a given concept. Note the above synonyms for the target and predictor variable terms — you'll encounter these synonyms across other readings and materials.\n"
   ]
  },
  {
   "cell_type": "markdown",
   "id": "c6861b66-1b66-4021-8904-72169550bf32",
   "metadata": {},
   "source": [
    "### Example using Ames housing data\n",
    "Let's load in the Ames housing data and fit a univariate regression model using \"YearBuilt\" as our single predictor variable. \n",
    "\n",
    "#### 1) Load the data\n",
    "We'll start by loading in the data as we have in the previous section."
   ]
  },
  {
   "cell_type": "code",
   "execution_count": 1,
   "id": "df1ebd94-7434-49b9-b88e-a5ad9ca9e208",
   "metadata": {},
   "outputs": [],
   "source": [
    "## Ames housing dataset. \n",
    "\n",
    "# See here for thorough documentation regarding the feature set: \n",
    "# https://www.openml.org/d/42165\n",
    "from sklearn.datasets import fetch_openml\n",
    "housing = fetch_openml(name=\"house_prices\", as_frame=True)"
   ]
  },
  {
   "cell_type": "markdown",
   "id": "3f338979-0dc2-404e-ad2e-ca9485058a38",
   "metadata": {},
   "source": [
    "##### Reminder of basic data properties\n",
    "1. How many observations and features are there in the data? \n",
    "2. What are some of the features available?\n",
    "3. What is the name of the target feature?"
   ]
  },
  {
   "cell_type": "code",
   "execution_count": 2,
   "id": "f989e85d-05ab-4643-94c7-4d8e587ae645",
   "metadata": {},
   "outputs": [
    {
     "name": "stdout",
     "output_type": "stream",
     "text": [
      "housing['data'].shape = (1460, 80)\n",
      "\n",
      "housing['feature_names'] = ['Id', 'MSSubClass', 'MSZoning', 'LotFrontage', 'LotArea', 'Street', 'Alley', 'LotShape', 'LandContour', 'Utilities', 'LotConfig', 'LandSlope', 'Neighborhood', 'Condition1', 'Condition2', 'BldgType', 'HouseStyle', 'OverallQual', 'OverallCond', 'YearBuilt', 'YearRemodAdd', 'RoofStyle', 'RoofMatl', 'Exterior1st', 'Exterior2nd', 'MasVnrType', 'MasVnrArea', 'ExterQual', 'ExterCond', 'Foundation', 'BsmtQual', 'BsmtCond', 'BsmtExposure', 'BsmtFinType1', 'BsmtFinSF1', 'BsmtFinType2', 'BsmtFinSF2', 'BsmtUnfSF', 'TotalBsmtSF', 'Heating', 'HeatingQC', 'CentralAir', 'Electrical', '1stFlrSF', '2ndFlrSF', 'LowQualFinSF', 'GrLivArea', 'BsmtFullBath', 'BsmtHalfBath', 'FullBath', 'HalfBath', 'BedroomAbvGr', 'KitchenAbvGr', 'KitchenQual', 'TotRmsAbvGrd', 'Functional', 'Fireplaces', 'FireplaceQu', 'GarageType', 'GarageYrBlt', 'GarageFinish', 'GarageCars', 'GarageArea', 'GarageQual', 'GarageCond', 'PavedDrive', 'WoodDeckSF', 'OpenPorchSF', 'EnclosedPorch', '3SsnPorch', 'ScreenPorch', 'PoolArea', 'PoolQC', 'Fence', 'MiscFeature', 'MiscVal', 'MoSold', 'YrSold', 'SaleType', 'SaleCondition']\n",
      "\n",
      "housing['target_names'] = ['SalePrice']\n",
      "\n"
     ]
    }
   ],
   "source": [
    "print(f\"housing['data'].shape = {housing['data'].shape}\\n\") # 80 features total, 1460 observations\n",
    "print(f\"housing['feature_names'] = {housing['feature_names']}\\n\")\n",
    "print(f\"housing['target_names'] = {housing['target_names']}\\n\")"
   ]
  },
  {
   "cell_type": "markdown",
   "id": "b1ae4339-3460-4259-bb61-973896662ecc",
   "metadata": {},
   "source": [
    "#### 2) Extract predictor variable and target variable from dataframe\n",
    "Next, we'll extract the two variables we'll use for our model — the target variable that we'll attempt to predict (SalePrice), and the predictor variable (YearBuilt) that will be used to predict the target variable."
   ]
  },
  {
   "cell_type": "code",
   "execution_count": 3,
   "id": "ea5fd3da-035b-4698-a02b-a5b627b128a8",
   "metadata": {},
   "outputs": [],
   "source": [
    "# Extract x (single predictor variable = YearBuilt) and y (target variable = SalePrice)\n",
    "x=housing['data']['YearBuilt']\n",
    "y=housing['target']"
   ]
  },
  {
   "cell_type": "markdown",
   "id": "fc92dca1-da3d-49bf-814a-79d08092066f",
   "metadata": {},
   "source": [
    "#### 3) Train/test split\n",
    "Say something about train/test sets, and purpose of each. Define overfitting."
   ]
  },
  {
   "cell_type": "code",
   "execution_count": 4,
   "id": "102872ae-4804-49b9-bd7c-ac78574be4aa",
   "metadata": {},
   "outputs": [
    {
     "name": "stdout",
     "output_type": "stream",
     "text": [
      "(978, 1)\n",
      "(482, 1)\n",
      "(978,)\n",
      "<class 'pandas.core.series.Series'>\n",
      "<class 'numpy.ndarray'>\n"
     ]
    }
   ],
   "source": [
    "from sklearn.model_selection import train_test_split\n",
    "\n",
    "x_train, x_test, y_train, y_test = train_test_split(x, y, \n",
    "                                                    test_size=0.33, \n",
    "                                                    random_state=0)\n",
    "\n",
    "# reshape single-var predictor matrix in preparation for model-fitting step (requires single column vectors to have 1 column rather than zero)\n",
    "x_train=x_train.values.reshape(-1,1)\n",
    "x_test=x_test.values.reshape(-1,1)\n",
    "\n",
    "print(x_train.shape)\n",
    "print(x_test.shape)\n",
    "print(y_train.shape)\n",
    "\n",
    "print(type(y_train))\n",
    "print(type(x_train))"
   ]
  },
  {
   "cell_type": "markdown",
   "id": "b12ae063-e98f-467d-b0b4-8ccab91d6f51",
   "metadata": {},
   "source": [
    "#### 4) Fit the model to the training dataset"
   ]
  },
  {
   "cell_type": "code",
   "execution_count": 5,
   "id": "cbfc881a-94c8-4f31-8be9-547c96f59061",
   "metadata": {},
   "outputs": [],
   "source": [
    "from sklearn.linear_model import LinearRegression\n",
    "reg = LinearRegression().fit(x_train,y_train)"
   ]
  },
  {
   "cell_type": "markdown",
   "id": "8865661e-75f0-427f-8860-cf8e165d6e6a",
   "metadata": {},
   "source": [
    "#### 5) Get model predictions for train and test data"
   ]
  },
  {
   "cell_type": "code",
   "execution_count": 6,
   "id": "c4622e79-a511-40d0-a727-88e7c516bd5f",
   "metadata": {},
   "outputs": [],
   "source": [
    "y_pred_train=reg.predict(x_train)\n",
    "y_pred_test=reg.predict(x_test)"
   ]
  },
  {
   "cell_type": "markdown",
   "id": "6f434e00-d1ba-48c1-8d86-49ecb30ae04c",
   "metadata": {},
   "source": [
    "#### 6) Plot the data vs predictions - qualitative assessment\n"
   ]
  },
  {
   "cell_type": "code",
   "execution_count": 7,
   "id": "a2ca3bcd-7b45-467b-a885-086619d74c4c",
   "metadata": {},
   "outputs": [],
   "source": [
    "import matplotlib.pyplot as plt\n",
    "def plot_model_predictions(\n",
    "        x_train, y_pred_train, \n",
    "        x_test, y_pred_test, \n",
    "        train_err=None, test_err=None):\n",
    "    \n",
    "    fig, (ax1, ax2) = plt.subplots(1,2)\n",
    "    fig.suptitle('Model Fit')\n",
    "\n",
    "    # train set\n",
    "    ax1.scatter(x_train, y_train, alpha=.1) \n",
    "    ax1.plot(x_train, y_pred_train, color='k') \n",
    "    if train_err is not None:\n",
    "        ax1.title.set_text('Train Set Error = ' + str(train_err))\n",
    "    else:\n",
    "        ax1.title.set_text('Train Data')\n",
    "\n",
    "    # test set\n",
    "    ax2.scatter(x_test, y_test, alpha=.1) \n",
    "    ax2.plot(x_test, y_pred_test, color='k') \n",
    "    # ax2.yticklabels('')\n",
    "    ax2.axes.get_yaxis().set_ticklabels([]);\n",
    "    if test_err is not None:\n",
    "        ax2.title.set_text('Test Set Error = ' + str(test_err))\n",
    "    else:\n",
    "        ax2.title.set_text('Test Data')\n"
   ]
  },
  {
   "cell_type": "code",
   "execution_count": 8,
   "id": "08060ab4-5315-4215-aaa8-b0c5ced55f00",
   "metadata": {},
   "outputs": [
    {
     "data": {
      "image/png": "[encoded data removed]",
      "text/plain": [
       "<Figure size 432x288 with 2 Axes>"
      ]
     },
     "metadata": {
      "needs_background": "light"
     },
     "output_type": "display_data"
    }
   ],
   "source": [
    "plot_model_predictions(x_train, y_pred_train, x_test, y_pred_test)"
   ]
  },
  {
   "cell_type": "markdown",
   "id": "3d11fd48-eda1-40c9-9cc9-df714abbf4fa",
   "metadata": {},
   "source": [
    "#### 5) Measure model error and assess under/overfitting"
   ]
  },
  {
   "cell_type": "code",
   "execution_count": 9,
   "id": "3e3d5ef2-c677-46c0-8f69-18d1041da06b",
   "metadata": {},
   "outputs": [
    {
     "name": "stdout",
     "output_type": "stream",
     "text": [
      "Train RMSE = 67500.86657586123\n",
      "Test RMSE = 68106.22257848026\n"
     ]
    }
   ],
   "source": [
    "from sklearn import metrics\n",
    "\n",
    "RMSE_train = metrics.mean_squared_error(y_train,y_pred_train,squared=False) \n",
    "RMSE_test = metrics.mean_squared_error(y_test,y_pred_test,squared=False) \n",
    "\n",
    "print(f\"Train RMSE = {RMSE_train}\")\n",
    "print(f\"Test RMSE = {RMSE_test}\")"
   ]
  },
  {
   "cell_type": "markdown",
   "id": "20594cab-111d-4953-8a86-7f48134800f5",
   "metadata": {},
   "source": [
    "##### Root Mean Squared Error (RMSE)\n",
    "The RMSE provides an easy-to-interpret number that represents error in terms of the units of the target variable. With our univariate model, the \"YearBuilt\" predictor variable (a.k.a. model feature) predicts sale prices within +/- $68,106 from the true sale price. We always use the RMSE of the test set to assess the model's ability to generalize on unseen data, while the train set RMSE helps us detect \"overfitting\".\n",
    "\n",
    "##### Mean Absolute Percentage Error\n",
    "What if we wanted to know the percent difference between the true sale price and the predicted sale price? For this, we can use the **mean absolute percentage error (MAPE)**..."
   ]
  },
  {
   "cell_type": "code",
   "execution_count": 10,
   "id": "42ceaa42-4d8f-4d9f-bbe7-ccbecba94fd1",
   "metadata": {},
   "outputs": [
    {
     "name": "stdout",
     "output_type": "stream",
     "text": [
      "Train MAPE = 0.2869562321419441\n",
      "Test MAPE = 0.2705162463887326\n"
     ]
    }
   ],
   "source": [
    "MAPE_train = metrics.mean_absolute_percentage_error(y_train, y_pred_train) \n",
    "MAPE_test = metrics.mean_absolute_percentage_error(y_test, y_pred_test) \n",
    "print(f\"Train MAPE = {MAPE_train}\")\n",
    "print(f\"Test MAPE = {MAPE_test}\")"
   ]
  },
  {
   "cell_type": "markdown",
   "id": "f53103c2-e15d-464f-a546-e05fc10ca30e",
   "metadata": {},
   "source": [
    "With the MAPE measurement (max value of 1 which corresponds to 100%), we can state that our model over/under estimates sale prices by an average of 27.1% (28.7%) across all houses included in the test set (train set). Certainly seems there is room for improvement based on this measure.\n",
    "\n",
    "##### R-Squared \n",
    "Another useful error measurement to use with regression models is the coefficient of determination — $R^2$. Oftentimes pronounced simply \"R-squared\",  this measure assesses the proportion of the variation in the target variable that is predictable from the predictor variable(s). Using sklearn's metrics, we can calculate this as follows:"
   ]
  },
  {
   "cell_type": "code",
   "execution_count": 11,
   "id": "fdf3cbad-be49-4eb1-b45e-8c05c7b7ea47",
   "metadata": {},
   "outputs": [
    {
     "name": "stdout",
     "output_type": "stream",
     "text": [
      "Train R-squared = 0.2869562321419441\n",
      "Test R-squared = 0.2705162463887326\n"
     ]
    }
   ],
   "source": [
    "R2_train = metrics.r2_score(y_train, y_pred_train) \n",
    "R2_test = metrics.r2_score(y_test, y_pred_test) \n",
    "print(f\"Train R-squared = {MAPE_train}\")\n",
    "print(f\"Test R-squared = {MAPE_test}\")\n"
   ]
  },
  {
   "cell_type": "markdown",
   "id": "45ce30d8-4fb6-47e7-8d4e-64c517b4070d",
   "metadata": {},
   "source": [
    "Our model predicts 27.1% (28.7%) of the variance across sale prices in the test set (train set).\n",
    "\n",
    "To read more about additional error/loss measurements, visit [sklearn's metrics documentation](https://scikit-learn.org/stable/modules/model_evaluation.html)."
   ]
  },
  {
   "cell_type": "markdown",
   "id": "627d33f5-eb27-4d46-9150-d74c412a0897",
   "metadata": {},
   "source": [
    "### Exercise — More on R-squared\n",
    "Some of the below is paraphrased from (make sure to go back and reword in own words -- use different examples at least): https://www.statology.org/good-r-squared-value\n",
    " \n",
    "R-squared is a measure of how well a linear regression model “fits” a dataset (i.e., the proportion of the variance in the response variable that can be explained by the predictor variable(s)).\n",
    "\n",
    "The value for R-squared can range from 0 to 1. A value of 0 indicates that the response variable cannot be explained by the predictor variable at all. A value of 1 indicates that the response variable can be perfectly explained without error by the predictor variable. In practice, you will likely never see a value of 0 or 1 for R-squared. Instead, you’ll likely encounter some value between 0 and 1. \"\"\n",
    "\n",
    "Our above example model is able to explain roughly 27% of the variance in the test dataset. Is this a “good” value for R-squared?\n",
    "\n",
    "The answer to this question depends on your objective for the regression model. This relates back to the two tangentially related goals of **explaining** vs **predicting**, namely:\n",
    "    \n",
    "1. Are you interested in **explaining** the relationship between the predictor(s) and the response variable?\n",
    "\n",
    "OR\n",
    "\n",
    "2. Are you interested in **predicting** the response variable?\n",
    "\n",
    "Depending on the objective, the answer to “What is a good value for R-squared?” will be different.\n",
    "\n",
    "#### Explaining the Relationship Between the Predictor(s) and the Response Variable\n",
    "If your main objective for your regression model is to explain the relationship between the predictor(s) and the response variable, the R-squared is mostly irrelevant. A predictor variable that consistently relates to a change in the response variable is typically always interesting — regardless of the the effect size. \n",
    "\n",
    "For example, suppose in the regression example from above, you see that the coefficient  for the predictor population size is 0.005 and that it’s statistically significant. This means that an increase of one in population size is associated with an average increase of 0.005 in the number of flower shops in a particular city. Also, population size is a statistically significant predictor of the number of flower shops in a city.\n",
    "\n",
    "Whether the R-squared value for this regression model is 0.2 or 0.9 doesn’t change this interpretation. Since you are simply interested in the relationship between population size and the number of flower shops, you don’t have to be overly concerned with the R-square value of the model.\n",
    "\n",
    "#### Predicting the Response Variable\n",
    "If your main objective is to predict the value of the response variable accurately using the predictor variable, then R-squared is important.\n",
    "\n",
    "In general, the larger the R-squared value, the more precisely the predictor variables are able to predict the value of the response variable.\n",
    "\n",
    "How high an R-squared value needs to be depends on how precise you need to be. For example, in scientific studies, the R-squared may need to be above 0.95 for a regression model to be considered reliable. In other domains, an R-squared of just 0.3 may be sufficient if there is extreme variability in the dataset.\n",
    "\n",
    "To find out what is considered a “good” R-squared value, you will need to explore what R-squared values are generally accepted in your particular field of study. If you’re performing a regression analysis for a client or a company, you may be able to ask them what is considered an acceptable R-squared value.\""
   ]
  },
  {
   "cell_type": "markdown",
   "id": "12f95dc7-8fcb-41cb-86bd-b87684cab354",
   "metadata": {},
   "source": [
    "#### 7) Explaining Model Predictions Using Statistics \n",
    "At this point, we have assessed the predictive accuracy of our model. However, what if we want to make scientific claims regarding how impactful the 'YearBuilt' predictor variable really is on sale prices? For this kind of questio, we need to incorporate statistics. This next section will explore the assumptions required for running basic statistics on a linear regression model."
   ]
  },
  {
   "cell_type": "markdown",
   "id": "b4e11d74-7b44-45c1-ad54-bdbf9bb47094",
   "metadata": {},
   "source": [
    "### Assumptions of Linear Regression\n",
    "#### Hypothesis Testing\n",
    "To run statistics on a univariate model, we start with two hypotheses — one null and one alternative.\n",
    "* $H_0$ (Null hypothesis): $m$ = 0 (i.e., slope is flat)\n",
    "* $H_A$ (Alternative hypothesis): $m \\neq 0$ (i.e.., slope is not completely flat) \n",
    "\n",
    "#### The 4 Assumptions for Linear Regression Hypothesis Testing\n",
    "1. Linearity: There is a linear relation between Y and X\n",
    "2. Normality: The error terms (residuals) are normally distributed\n",
    "3. Homoscedasticity: The variance of the error terms is constant over all X values (homoscedasticity)\n",
    "4. Independence: The error terms are independent"
   ]
  },
  {
   "cell_type": "markdown",
   "id": "35150aa9-2924-4965-8258-d21964bcc7d0",
   "metadata": {},
   "source": [
    "### Frame questions to explore\n",
    "In this next section, we'll explore the use of univariate linear models to both (1) explain relationships in the data, and (2) form predictions of hypothetical sale prices. Specifically, we'll answer the following questions...\n",
    "\n",
    "1. Which predictor variable yields the most accurate prediction of sale prices?\n",
    "2. Which predictor variables have a statistically significant affect on sale price?"
   ]
  }
 ],
 "metadata": {
  "kernelspec": {
   "display_name": "Python 3",
   "language": "python",
   "name": "python3"
  },
  "language_info": {
   "codemirror_mode": {
    "name": "ipython",
    "version": 3
   },
   "file_extension": ".py",
   "mimetype": "text/x-python",
   "name": "python",
   "nbconvert_exporter": "python",
   "pygments_lexer": "ipython3",
   "version": "3.8.8"
  }
 },
 "nbformat": 4,
 "nbformat_minor": 5
}
