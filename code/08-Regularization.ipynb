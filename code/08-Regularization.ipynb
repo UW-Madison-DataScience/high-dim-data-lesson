{
 "cells": [
  {
   "cell_type": "markdown",
   "id": "704f6c52-3d0e-4cd7-bc4f-e39c092a4c63",
   "metadata": {},
   "source": [
    "---\n",
    "title: Regularization methods - lasso, ridge, and elastic net\n",
    "teaching: 45\n",
    "exercises: 2\n",
    "keypoints:\n",
    "- \"\"\n",
    "objectives:\n",
    "- \"\"\n",
    "questions:\n",
    "- \"How can LASSO regularization be used as a feature selection method?\"\n",
    "---"
   ]
  },
  {
   "cell_type": "markdown",
   "id": "296c0f4e-e318-4210-9e0f-40f7f448c19a",
   "metadata": {},
   "source": [
    "## Introduction to the LASSO Model in high-dimensional data analysis\n",
    "In the realm of high-dimensional data analysis, where the number of predictors begins to approach or exceed the number of observations, traditional regression methods can become challenging to implement and interpret. The Least Absolute Shrinkage and Selection Operator (LASSO) offers a powerful solution to address the complexities of high-dimensional datasets. This technique, introduced by Robert Tibshirani in 1996, has gained immense popularity due to its ability to provide both effective prediction and feature selection.\n",
    "\n",
    "The LASSO model is a regularization technique designed to combat overfitting by adding a penalty term to the regression equation. The essence of the LASSO lies in its ability to shrink the coefficients of less relevant predictors towards zero, effectively \"shrinking\" them out of the model. This not only enhances model interpretability by identifying the most important predictors but also reduces the risk of multicollinearity and improves predictive accuracy.\n",
    "\n",
    "LASSO's impact on high-dimensional data analysis is profound. It provides several benefits:\n",
    "\n",
    "* Feature Selection / Interpretability: The LASSO identifies and retains the most relevant predictors. With a reduced set of predictors, the model becomes more interpretable, enabling researchers to understand the driving factors behind the predictions.\n",
    "\n",
    "* Regularization / Dimensionality Reduction: The L1 penalty prevents overfitting by constraining the coefficients, even in cases with a large number of predictors. The L1 penality inherently reduces the dimensionality of the model, making it suitable for settings where the number of predictors is much larger than the sample size.\n",
    "\n",
    "* Improved Generalization: Related to the above point, LASSO's feature selection capabilities contribute to better generalization and prediction performance on unseen data.\n",
    "\n",
    "* Data Efficiency: LASSO excels when working with limited samples, offering meaningful insights despite limited observations."
   ]
  },
  {
   "cell_type": "markdown",
   "id": "e286a602-deb9-4a4e-876b-5b6bdc052638",
   "metadata": {},
   "source": [
    "### The L1 penalty\n",
    "The key concept behind the LASSO is its use of the L1 penalty, which is defined as the sum of the absolute values of the coefficients (parameters) of the model, multiplied by a regularization parameter (usually denoted as λ or alpha).\n",
    "\n",
    "In the context of linear regression, the L1 penalty can be incorporated into the ordinary least squares (OLS) loss function as follows:"
   ]
  },
  {
   "cell_type": "markdown",
   "id": "13a51a96-6be3-437f-8634-b30a4835bf70",
   "metadata": {},
   "source": [
    "![LASSO Model](https://www.analyticsvidhya.com/wp-content/uploads/2015/08/Lasso.png)\n"
   ]
  },
  {
   "cell_type": "markdown",
   "id": "621086fc-3ee6-4e59-9731-38bc80be635f",
   "metadata": {
    "tags": []
   },
   "source": [
    "Where:\n",
    "\n",
    "* λ (lambda) is the regularization parameter that controls the strength of the penalty. Higher values of λ lead to stronger regularization and more coefficients being pushed towards zero.\n",
    "* βi is the coefficient associated with the i-th predictor.\n",
    "\n",
    "The L1 penalty has a unique property that it promotes sparsity. This means that it encourages some coefficients to be exactly zero, effectively performing feature selection. In contrast to the L2 penalty (Ridge penalty), which squares the coefficients and promotes small but non-zero values, the L1 penalty tends to lead to sparse solutions where only a subset of predictors are chosen. As a result, the LASSO automatically performs feature selection, which is especially advantageous when dealing with high-dimensional datasets where many predictors may have negligible effects on the outcome."
   ]
  },
  {
   "cell_type": "markdown",
   "id": "390a1da1-dd65-4795-a41d-9ad2ffc7454a",
   "metadata": {},
   "source": [
    "### Load full dim, zscored, data"
   ]
  },
  {
   "cell_type": "code",
   "execution_count": 1,
   "id": "10aada6e-8868-42c6-a017-924adf3f97cc",
   "metadata": {},
   "outputs": [
    {
     "name": "stdout",
     "output_type": "stream",
     "text": [
      "3SsnPorch removed, most_common_val = 0, presence = 98.36\n",
      "LotFrontage removed, 259 NaNs\n",
      "GarageYrBlt removed, 81 NaNs\n",
      "MasVnrArea removed, 8 NaNs\n",
      "LowQualFinSF removed, most_common_val = 0, presence = 98.22\n",
      "PoolArea removed, most_common_val = 0, presence = 99.52\n",
      "GarageType_2Types removed, most_common_val = 0, presence = 99.59\n",
      "GarageType_Basment removed, most_common_val = 0, presence = 98.7\n",
      "GarageType_CarPort removed, most_common_val = 0, presence = 99.38\n",
      "Neighborhood_Blmngtn removed, most_common_val = 0, presence = 98.84\n",
      "Neighborhood_Blueste removed, most_common_val = 0, presence = 99.86\n",
      "Neighborhood_BrDale removed, most_common_val = 0, presence = 98.9\n",
      "Neighborhood_ClearCr removed, most_common_val = 0, presence = 98.08\n",
      "Neighborhood_MeadowV removed, most_common_val = 0, presence = 98.84\n",
      "Neighborhood_NPkVill removed, most_common_val = 0, presence = 99.38\n",
      "Neighborhood_SWISU removed, most_common_val = 0, presence = 98.29\n",
      "Neighborhood_StoneBr removed, most_common_val = 0, presence = 98.29\n",
      "Neighborhood_Veenker removed, most_common_val = 0, presence = 99.25\n",
      "Utilities_AllPub removed, most_common_val = 1, presence = 99.93\n",
      "Utilities_NoSeWa removed, most_common_val = 0, presence = 99.93\n",
      "Electrical_FuseF removed, most_common_val = 0, presence = 98.15\n",
      "Electrical_FuseP removed, most_common_val = 0, presence = 99.79\n",
      "Electrical_Mix removed, most_common_val = 0, presence = 99.93\n",
      "MSZoning_'C (all)' removed, most_common_val = 0, presence = 99.32\n",
      "MSZoning_RH removed, most_common_val = 0, presence = 98.9\n",
      "MiscFeature_Gar2 removed, most_common_val = 0, presence = 99.86\n",
      "MiscFeature_Othr removed, most_common_val = 0, presence = 99.86\n",
      "MiscFeature_TenC removed, most_common_val = 0, presence = 99.93\n",
      "RoofStyle_Flat removed, most_common_val = 0, presence = 99.11\n",
      "RoofStyle_Gambrel removed, most_common_val = 0, presence = 99.25\n",
      "RoofStyle_Mansard removed, most_common_val = 0, presence = 99.52\n",
      "RoofStyle_Shed removed, most_common_val = 0, presence = 99.86\n",
      "RoofMatl_ClyTile removed, most_common_val = 0, presence = 99.93\n",
      "RoofMatl_CompShg removed, most_common_val = 1, presence = 98.22\n",
      "RoofMatl_Membran removed, most_common_val = 0, presence = 99.93\n",
      "RoofMatl_Metal removed, most_common_val = 0, presence = 99.93\n",
      "RoofMatl_Roll removed, most_common_val = 0, presence = 99.93\n",
      "RoofMatl_Tar&Grv removed, most_common_val = 0, presence = 99.25\n",
      "RoofMatl_WdShake removed, most_common_val = 0, presence = 99.66\n",
      "RoofMatl_WdShngl removed, most_common_val = 0, presence = 99.59\n",
      "Exterior1st_AsbShng removed, most_common_val = 0, presence = 98.63\n",
      "Exterior1st_AsphShn removed, most_common_val = 0, presence = 99.93\n",
      "Exterior1st_BrkComm removed, most_common_val = 0, presence = 99.86\n",
      "Exterior1st_CBlock removed, most_common_val = 0, presence = 99.93\n",
      "Exterior1st_ImStucc removed, most_common_val = 0, presence = 99.93\n",
      "Exterior1st_Stone removed, most_common_val = 0, presence = 99.86\n",
      "Exterior1st_Stucco removed, most_common_val = 0, presence = 98.29\n",
      "Exterior1st_WdShing removed, most_common_val = 0, presence = 98.22\n",
      "Condition2_Artery removed, most_common_val = 0, presence = 99.86\n",
      "Condition2_Feedr removed, most_common_val = 0, presence = 99.59\n",
      "Condition2_Norm removed, most_common_val = 1, presence = 98.97\n",
      "Condition2_PosA removed, most_common_val = 0, presence = 99.93\n",
      "Condition2_PosN removed, most_common_val = 0, presence = 99.86\n",
      "Condition2_RRAe removed, most_common_val = 0, presence = 99.93\n",
      "Condition2_RRAn removed, most_common_val = 0, presence = 99.93\n",
      "Condition2_RRNn removed, most_common_val = 0, presence = 99.86\n",
      "Exterior2nd_'Brk Cmn' removed, most_common_val = 0, presence = 99.52\n",
      "Exterior2nd_AsbShng removed, most_common_val = 0, presence = 98.63\n",
      "Exterior2nd_AsphShn removed, most_common_val = 0, presence = 99.79\n",
      "Exterior2nd_BrkFace removed, most_common_val = 0, presence = 98.29\n",
      "Exterior2nd_CBlock removed, most_common_val = 0, presence = 99.93\n",
      "Exterior2nd_ImStucc removed, most_common_val = 0, presence = 99.32\n",
      "Exterior2nd_Other removed, most_common_val = 0, presence = 99.93\n",
      "Exterior2nd_Stone removed, most_common_val = 0, presence = 99.66\n",
      "Exterior2nd_Stucco removed, most_common_val = 0, presence = 98.22\n",
      "SaleType_CWD removed, most_common_val = 0, presence = 99.73\n",
      "SaleType_Con removed, most_common_val = 0, presence = 99.86\n",
      "SaleType_ConLD removed, most_common_val = 0, presence = 99.38\n",
      "SaleType_ConLI removed, most_common_val = 0, presence = 99.66\n",
      "SaleType_ConLw removed, most_common_val = 0, presence = 99.66\n",
      "SaleType_Oth removed, most_common_val = 0, presence = 99.79\n",
      "Heating_Floor removed, most_common_val = 0, presence = 99.93\n",
      "Heating_GasW removed, most_common_val = 0, presence = 98.77\n",
      "Heating_Grav removed, most_common_val = 0, presence = 99.52\n",
      "Heating_OthW removed, most_common_val = 0, presence = 99.86\n",
      "Heating_Wall removed, most_common_val = 0, presence = 99.73\n",
      "MasVnrType_BrkCmn removed, most_common_val = 0, presence = 98.97\n",
      "SaleCondition_AdjLand removed, most_common_val = 0, presence = 99.73\n",
      "SaleCondition_Alloca removed, most_common_val = 0, presence = 99.18\n",
      "SaleCondition_Family removed, most_common_val = 0, presence = 98.63\n",
      "Foundation_Slab removed, most_common_val = 0, presence = 98.36\n",
      "Foundation_Stone removed, most_common_val = 0, presence = 99.59\n",
      "Foundation_Wood removed, most_common_val = 0, presence = 99.79\n",
      "Condition1_PosA removed, most_common_val = 0, presence = 99.45\n",
      "Condition1_PosN removed, most_common_val = 0, presence = 98.7\n",
      "Condition1_RRAe removed, most_common_val = 0, presence = 99.25\n",
      "Condition1_RRAn removed, most_common_val = 0, presence = 98.22\n",
      "Condition1_RRNe removed, most_common_val = 0, presence = 99.86\n",
      "Condition1_RRNn removed, most_common_val = 0, presence = 99.66\n",
      "MSSubClass_40 removed, most_common_val = 0, presence = 99.73\n",
      "MSSubClass_45 removed, most_common_val = 0, presence = 99.18\n",
      "MSSubClass_75 removed, most_common_val = 0, presence = 98.9\n",
      "MSSubClass_85 removed, most_common_val = 0, presence = 98.63\n",
      "MSSubClass_180 removed, most_common_val = 0, presence = 99.32\n",
      "LotConfig_FR3 removed, most_common_val = 0, presence = 99.73\n",
      "HouseStyle_1.5Unf removed, most_common_val = 0, presence = 99.04\n",
      "HouseStyle_2.5Fin removed, most_common_val = 0, presence = 99.45\n",
      "HouseStyle_2.5Unf removed, most_common_val = 0, presence = 99.25\n",
      "Street removed, most_common_val = 1, presence = 99.59\n",
      "99 columns removed, 116 remaining.\n",
      "Columns removed: ['3SsnPorch', 'LotFrontage', 'GarageYrBlt', 'MasVnrArea', 'LowQualFinSF', 'PoolArea', 'GarageType_2Types', 'GarageType_Basment', 'GarageType_CarPort', 'Neighborhood_Blmngtn', 'Neighborhood_Blueste', 'Neighborhood_BrDale', 'Neighborhood_ClearCr', 'Neighborhood_MeadowV', 'Neighborhood_NPkVill', 'Neighborhood_SWISU', 'Neighborhood_StoneBr', 'Neighborhood_Veenker', 'Utilities_AllPub', 'Utilities_NoSeWa', 'Electrical_FuseF', 'Electrical_FuseP', 'Electrical_Mix', \"MSZoning_'C (all)'\", 'MSZoning_RH', 'MiscFeature_Gar2', 'MiscFeature_Othr', 'MiscFeature_TenC', 'RoofStyle_Flat', 'RoofStyle_Gambrel', 'RoofStyle_Mansard', 'RoofStyle_Shed', 'RoofMatl_ClyTile', 'RoofMatl_CompShg', 'RoofMatl_Membran', 'RoofMatl_Metal', 'RoofMatl_Roll', 'RoofMatl_Tar&Grv', 'RoofMatl_WdShake', 'RoofMatl_WdShngl', 'Exterior1st_AsbShng', 'Exterior1st_AsphShn', 'Exterior1st_BrkComm', 'Exterior1st_CBlock', 'Exterior1st_ImStucc', 'Exterior1st_Stone', 'Exterior1st_Stucco', 'Exterior1st_WdShing', 'Condition2_Artery', 'Condition2_Feedr', 'Condition2_Norm', 'Condition2_PosA', 'Condition2_PosN', 'Condition2_RRAe', 'Condition2_RRAn', 'Condition2_RRNn', \"Exterior2nd_'Brk Cmn'\", 'Exterior2nd_AsbShng', 'Exterior2nd_AsphShn', 'Exterior2nd_BrkFace', 'Exterior2nd_CBlock', 'Exterior2nd_ImStucc', 'Exterior2nd_Other', 'Exterior2nd_Stone', 'Exterior2nd_Stucco', 'SaleType_CWD', 'SaleType_Con', 'SaleType_ConLD', 'SaleType_ConLI', 'SaleType_ConLw', 'SaleType_Oth', 'Heating_Floor', 'Heating_GasW', 'Heating_Grav', 'Heating_OthW', 'Heating_Wall', 'MasVnrType_BrkCmn', 'SaleCondition_AdjLand', 'SaleCondition_Alloca', 'SaleCondition_Family', 'Foundation_Slab', 'Foundation_Stone', 'Foundation_Wood', 'Condition1_PosA', 'Condition1_PosN', 'Condition1_RRAe', 'Condition1_RRAn', 'Condition1_RRNe', 'Condition1_RRNn', 'MSSubClass_40', 'MSSubClass_45', 'MSSubClass_75', 'MSSubClass_85', 'MSSubClass_180', 'LotConfig_FR3', 'HouseStyle_1.5Unf', 'HouseStyle_2.5Fin', 'HouseStyle_2.5Unf', 'Street']\n"
     ]
    },
    {
     "data": {
      "text/html": [
       "<div>\n",
       "<style scoped>\n",
       "    .dataframe tbody tr th:only-of-type {\n",
       "        vertical-align: middle;\n",
       "    }\n",
       "\n",
       "    .dataframe tbody tr th {\n",
       "        vertical-align: top;\n",
       "    }\n",
       "\n",
       "    .dataframe thead th {\n",
       "        text-align: right;\n",
       "    }\n",
       "</style>\n",
       "<table border=\"1\" class=\"dataframe\">\n",
       "  <thead>\n",
       "    <tr style=\"text-align: right;\">\n",
       "      <th></th>\n",
       "      <th>GrLivArea</th>\n",
       "      <th>FullBath</th>\n",
       "      <th>TotalBsmtSF</th>\n",
       "      <th>BedroomAbvGr</th>\n",
       "      <th>TotRmsAbvGrd</th>\n",
       "      <th>BsmtUnfSF</th>\n",
       "      <th>1stFlrSF</th>\n",
       "      <th>LotArea</th>\n",
       "      <th>BsmtFinSF1</th>\n",
       "      <th>2ndFlrSF</th>\n",
       "      <th>...</th>\n",
       "      <th>BldgType_2fmCon</th>\n",
       "      <th>BldgType_Duplex</th>\n",
       "      <th>BldgType_Twnhs</th>\n",
       "      <th>BldgType_TwnhsE</th>\n",
       "      <th>HouseStyle_1.5Fin</th>\n",
       "      <th>HouseStyle_1Story</th>\n",
       "      <th>HouseStyle_2Story</th>\n",
       "      <th>HouseStyle_SFoyer</th>\n",
       "      <th>HouseStyle_SLvl</th>\n",
       "      <th>CentralAir</th>\n",
       "    </tr>\n",
       "  </thead>\n",
       "  <tbody>\n",
       "    <tr>\n",
       "      <th>1367</th>\n",
       "      <td>0.034762</td>\n",
       "      <td>0.744171</td>\n",
       "      <td>-0.642090</td>\n",
       "      <td>1.542568</td>\n",
       "      <td>-0.225022</td>\n",
       "      <td>-1.172785</td>\n",
       "      <td>-0.584174</td>\n",
       "      <td>-0.603394</td>\n",
       "      <td>0.348199</td>\n",
       "      <td>0.563667</td>\n",
       "      <td>...</td>\n",
       "      <td>-0.187665</td>\n",
       "      <td>-0.187665</td>\n",
       "      <td>-0.144344</td>\n",
       "      <td>2.657519</td>\n",
       "      <td>-0.239946</td>\n",
       "      <td>-1.024257</td>\n",
       "      <td>1.402153</td>\n",
       "      <td>-0.187665</td>\n",
       "      <td>-0.22364</td>\n",
       "      <td>0.206309</td>\n",
       "    </tr>\n",
       "    <tr>\n",
       "      <th>637</th>\n",
       "      <td>-0.159506</td>\n",
       "      <td>0.744171</td>\n",
       "      <td>-0.504816</td>\n",
       "      <td>0.202003</td>\n",
       "      <td>0.445452</td>\n",
       "      <td>0.603234</td>\n",
       "      <td>-0.897365</td>\n",
       "      <td>-0.355677</td>\n",
       "      <td>-1.009635</td>\n",
       "      <td>0.627735</td>\n",
       "      <td>...</td>\n",
       "      <td>5.292150</td>\n",
       "      <td>-0.187665</td>\n",
       "      <td>-0.144344</td>\n",
       "      <td>-0.373714</td>\n",
       "      <td>4.139064</td>\n",
       "      <td>-1.024257</td>\n",
       "      <td>-0.708304</td>\n",
       "      <td>-0.187665</td>\n",
       "      <td>-0.22364</td>\n",
       "      <td>0.206309</td>\n",
       "    </tr>\n",
       "    <tr>\n",
       "      <th>1304</th>\n",
       "      <td>0.549132</td>\n",
       "      <td>0.744171</td>\n",
       "      <td>-0.085369</td>\n",
       "      <td>0.202003</td>\n",
       "      <td>0.445452</td>\n",
       "      <td>0.981354</td>\n",
       "      <td>-0.444063</td>\n",
       "      <td>-0.551548</td>\n",
       "      <td>-1.009635</td>\n",
       "      <td>1.012143</td>\n",
       "      <td>...</td>\n",
       "      <td>-0.187665</td>\n",
       "      <td>-0.187665</td>\n",
       "      <td>-0.144344</td>\n",
       "      <td>2.657519</td>\n",
       "      <td>-0.239946</td>\n",
       "      <td>-1.024257</td>\n",
       "      <td>1.402153</td>\n",
       "      <td>-0.187665</td>\n",
       "      <td>-0.22364</td>\n",
       "      <td>0.206309</td>\n",
       "    </tr>\n",
       "    <tr>\n",
       "      <th>286</th>\n",
       "      <td>0.606530</td>\n",
       "      <td>-1.195990</td>\n",
       "      <td>-0.248064</td>\n",
       "      <td>0.202003</td>\n",
       "      <td>0.445452</td>\n",
       "      <td>-0.540293</td>\n",
       "      <td>-0.144609</td>\n",
       "      <td>-0.074462</td>\n",
       "      <td>0.477044</td>\n",
       "      <td>0.807618</td>\n",
       "      <td>...</td>\n",
       "      <td>-0.187665</td>\n",
       "      <td>-0.187665</td>\n",
       "      <td>-0.144344</td>\n",
       "      <td>-0.373714</td>\n",
       "      <td>4.139064</td>\n",
       "      <td>-1.024257</td>\n",
       "      <td>-0.708304</td>\n",
       "      <td>-0.187665</td>\n",
       "      <td>-0.22364</td>\n",
       "      <td>0.206309</td>\n",
       "    </tr>\n",
       "    <tr>\n",
       "      <th>488</th>\n",
       "      <td>2.107696</td>\n",
       "      <td>0.744171</td>\n",
       "      <td>-0.141296</td>\n",
       "      <td>0.202003</td>\n",
       "      <td>2.456876</td>\n",
       "      <td>-0.590709</td>\n",
       "      <td>1.726292</td>\n",
       "      <td>0.000856</td>\n",
       "      <td>0.635623</td>\n",
       "      <td>0.805154</td>\n",
       "      <td>...</td>\n",
       "      <td>5.292150</td>\n",
       "      <td>-0.187665</td>\n",
       "      <td>-0.144344</td>\n",
       "      <td>-0.373714</td>\n",
       "      <td>4.139064</td>\n",
       "      <td>-1.024257</td>\n",
       "      <td>-0.708304</td>\n",
       "      <td>-0.187665</td>\n",
       "      <td>-0.22364</td>\n",
       "      <td>-4.813888</td>\n",
       "    </tr>\n",
       "  </tbody>\n",
       "</table>\n",
       "<p>5 rows × 116 columns</p>\n",
       "</div>"
      ],
      "text/plain": [
       "      GrLivArea  FullBath  TotalBsmtSF  BedroomAbvGr  TotRmsAbvGrd  BsmtUnfSF  \\\n",
       "1367   0.034762  0.744171    -0.642090      1.542568     -0.225022  -1.172785   \n",
       "637   -0.159506  0.744171    -0.504816      0.202003      0.445452   0.603234   \n",
       "1304   0.549132  0.744171    -0.085369      0.202003      0.445452   0.981354   \n",
       "286    0.606530 -1.195990    -0.248064      0.202003      0.445452  -0.540293   \n",
       "488    2.107696  0.744171    -0.141296      0.202003      2.456876  -0.590709   \n",
       "\n",
       "      1stFlrSF   LotArea  BsmtFinSF1  2ndFlrSF  ...  BldgType_2fmCon  \\\n",
       "1367 -0.584174 -0.603394    0.348199  0.563667  ...        -0.187665   \n",
       "637  -0.897365 -0.355677   -1.009635  0.627735  ...         5.292150   \n",
       "1304 -0.444063 -0.551548   -1.009635  1.012143  ...        -0.187665   \n",
       "286  -0.144609 -0.074462    0.477044  0.807618  ...        -0.187665   \n",
       "488   1.726292  0.000856    0.635623  0.805154  ...         5.292150   \n",
       "\n",
       "      BldgType_Duplex  BldgType_Twnhs  BldgType_TwnhsE  HouseStyle_1.5Fin  \\\n",
       "1367        -0.187665       -0.144344         2.657519          -0.239946   \n",
       "637         -0.187665       -0.144344        -0.373714           4.139064   \n",
       "1304        -0.187665       -0.144344         2.657519          -0.239946   \n",
       "286         -0.187665       -0.144344        -0.373714           4.139064   \n",
       "488         -0.187665       -0.144344        -0.373714           4.139064   \n",
       "\n",
       "      HouseStyle_1Story  HouseStyle_2Story  HouseStyle_SFoyer  \\\n",
       "1367          -1.024257           1.402153          -0.187665   \n",
       "637           -1.024257          -0.708304          -0.187665   \n",
       "1304          -1.024257           1.402153          -0.187665   \n",
       "286           -1.024257          -0.708304          -0.187665   \n",
       "488           -1.024257          -0.708304          -0.187665   \n",
       "\n",
       "      HouseStyle_SLvl  CentralAir  \n",
       "1367         -0.22364    0.206309  \n",
       "637          -0.22364    0.206309  \n",
       "1304         -0.22364    0.206309  \n",
       "286          -0.22364    0.206309  \n",
       "488          -0.22364   -4.813888  \n",
       "\n",
       "[5 rows x 116 columns]"
      ]
     },
     "execution_count": 1,
     "metadata": {},
     "output_type": "execute_result"
    }
   ],
   "source": [
    "from preprocessing import prep_fulldim_zdata\n",
    "X_train_z, X_test_z, y_train, y_test, y = prep_fulldim_zdata(const_thresh= 98, test_size=.9, y_log_scaled=True)\n",
    "X_train_z.head()"
   ]
  },
  {
   "cell_type": "code",
   "execution_count": 3,
   "id": "3863c052-adbb-469b-99a5-0e0bc6f7791b",
   "metadata": {
    "tags": []
   },
   "outputs": [
    {
     "name": "stdout",
     "output_type": "stream",
     "text": [
      "# of predictor vars = 116\n",
      "# of train observations = 146\n",
      "# of test observations = 1314\n",
      "Baseline RMSE = 79415.29188606751\n",
      "Train RMSE = 8105.058299930031\n",
      "Holdout RMSE = 172669.59611916472\n",
      "(Holdout-Train)/Train: 2030%\n"
     ]
    },
    {
     "data": {
      "image/png": "[encoded data removed]",
      "text/plain": [
       "<Figure size 640x480 with 2 Axes>"
      ]
     },
     "metadata": {},
     "output_type": "display_data"
    },
    {
     "name": "stdout",
     "output_type": "stream",
     "text": [
      "\n"
     ]
    },
    {
     "data": {
      "text/plain": [
       "(79415.29188606751, 8105.058299930031, 172669.59611916472)"
      ]
     },
     "execution_count": 3,
     "metadata": {},
     "output_type": "execute_result"
    }
   ],
   "source": [
    "from regression_predict_sklearn import fit_eval_model\n",
    "fit_eval_model(y=y, baseline_pred=y.mean(),\n",
    "               X_train=X_train_z, y_train=y_train,\n",
    "               X_test=X_test_z, y_test=y_test, \n",
    "               predictors=X_train_z.columns,\n",
    "               metric='RMSE',\n",
    "               y_log_scaled=True,\n",
    "               model_type='unregularized',\n",
    "               include_plots=True, plot_raw=True, verbose=True)"
   ]
  },
  {
   "cell_type": "code",
   "execution_count": null,
   "id": "eb61ca47-70af-4f67-a024-f38dfaf6e5fb",
   "metadata": {},
   "outputs": [],
   "source": [
    "import numpy as np\n",
    "import pandas as pd\n",
    "from sklearn.linear_model import LassoCV\n",
    "import statsmodels.api as sm"
   ]
  },
  {
   "cell_type": "code",
   "execution_count": null,
   "id": "619f9709-93ee-4e44-8032-134cafb7d9c0",
   "metadata": {},
   "outputs": [],
   "source": [
    "# Split the data into training and testing sets\n",
    "from sklearn.model_selection import train_test_split\n",
    "X_train, X_test, y_train, y_test = train_test_split(X, y, test_size=0.3, random_state=0)\n",
    "\n",
    "# Create LassoCV model with cross-validation for lambda selection\n",
    "lasso_cv = LassoCV(alphas=np.logspace(-6, 6, 13), cv=5)\n",
    "lasso_cv.fit(X_train, y_train)\n",
    "\n",
    "# Calculate p-values for LASSO coefficients\n",
    "X_train_with_constant = sm.add_constant(X_train)\n",
    "lasso_model = sm.OLS(y_train, X_train_with_constant)\n",
    "lasso_results = lasso_model.fit_regularized(alpha=lasso_cv.alpha_, L1_wt=1.0)\n",
    "\n",
    "# Print the summary of LASSO results\n",
    "print(lasso_results.summary())\n"
   ]
  },
  {
   "cell_type": "markdown",
   "id": "28af14d4",
   "metadata": {
    "id": "28af14d4"
   },
   "source": [
    "### Split data into train/test sets and zscore\n",
    "We will now split our data into two separate groupings — one for fitting or training the model (\"train set\") and another for testing (\"test set\") the model's ability to generalize to data that was excluded during training. The amount of data you exclude for the test set should be large enough that the model can be vetted against a diverse range of samples. A common rule of thumb is to use 3/4 of the data for training, and 1/3 for testing."
   ]
  },
  {
   "cell_type": "code",
   "execution_count": null,
   "id": "0b7c58c0",
   "metadata": {
    "colab": {
     "base_uri": "https://localhost:8080/"
    },
    "id": "0b7c58c0",
    "outputId": "d85b69f2-db8b-499a-bbfb-021e14344a27"
   },
   "outputs": [],
   "source": [
    "from sklearn.model_selection import train_test_split\n",
    "\n",
    "# Perform train/test split\n",
    "X_train, X_test, y_train, y_test = train_test_split(X_encoded, y, test_size=0.33, \n",
    "                                                    random_state=0)\n",
    "print(X_train.shape)\n",
    "print(X_test.shape)\n",
    "\n",
    "print(type(y_train))\n",
    "print(type(X_train))\n",
    "\n"
   ]
  },
  {
   "cell_type": "code",
   "execution_count": null,
   "id": "-GERuBw8iALC",
   "metadata": {
    "id": "-GERuBw8iALC"
   },
   "outputs": [],
   "source": [
    "# sklearn version\n",
    "from sklearn.linear_model import LinearRegression\n",
    "\n",
    "# stats model version (for hypothesis testing)\n",
    "from statsmodels.formula.api import ols\n",
    "\n",
    "def train_linear_model(X_train, y_train, model_type):\n",
    "    if model_type == \"unregularized\":\n",
    "        reg = LinearRegression().fit(X_train,y_train)\n",
    "#         reg = ols(\"dist ~ speed\", data=cars).fit()\n",
    "    else:\n",
    "        raise ValueError('Unexpected model_type encountered; model_type = ' + model_type)\n",
    "  \n",
    "    # print number of estimated model coefficients. Need to add one to account for y-intercept (not included in reg.coef_ call)\n",
    "    print('# model coefs = ' + str(len(reg.coef_)+1))\n",
    "\n",
    "    return reg\n",
    "\n"
   ]
  },
  {
   "cell_type": "markdown",
   "id": "b6b1f6fa-2c67-4491-9134-e0509045c19d",
   "metadata": {},
   "source": [
    "Define a function `measure_model_err` to help us measure the model's performance (train/test RMSE)"
   ]
  },
  {
   "cell_type": "markdown",
   "id": "300e481b-bc04-4d07-9066-7064762e9856",
   "metadata": {},
   "source": [
    "Define a function `fit_eval_model` that will call both `train_linear_model` and `measure_model_err` and report back on model performance."
   ]
  },
  {
   "cell_type": "markdown",
   "id": "ZCX7Kk2z3Ftw",
   "metadata": {
    "id": "ZCX7Kk2z3Ftw"
   },
   "source": [
    "## Fit multivariate model using all predictor vars"
   ]
  },
  {
   "cell_type": "code",
   "execution_count": null,
   "id": "ac1f821b",
   "metadata": {
    "colab": {
     "base_uri": "https://localhost:8080/"
    },
    "id": "ac1f821b",
    "outputId": "cb5e5943-a268-4809-e25e-5c12ae07df97"
   },
   "outputs": [],
   "source": [
    "help(fit_eval_model)"
   ]
  },
  {
   "cell_type": "markdown",
   "id": "Id0j91sEBgxj",
   "metadata": {
    "id": "Id0j91sEBgxj"
   },
   "source": [
    "## Regularized regression: ridge, lasso, elastic net\n"
   ]
  },
  {
   "cell_type": "markdown",
   "id": "58W5L2_Gw3GH",
   "metadata": {
    "id": "58W5L2_Gw3GH"
   },
   "source": [
    "### Ridge and RidgeCV\n",
    "- Show ridge optimization equation\n",
    "- Default CV is Leave-One-Out. In this form of CV, all samples in the data except for one are used as the inital training set. The left out sample is used a validation set.\n",
    "- One alpha value used for entire model; larger alphas give more weight to the penalty/regularization term of the loss function"
   ]
  },
  {
   "cell_type": "markdown",
   "id": "luCE0ZniCtF1",
   "metadata": {
    "id": "luCE0ZniCtF1"
   },
   "source": [
    "Edit function below to use multiple regression techniques (add model_type input)\n",
    "\n",
    "\n",
    "\n"
   ]
  },
  {
   "cell_type": "code",
   "execution_count": null,
   "id": "a09dfec3",
   "metadata": {
    "colab": {
     "base_uri": "https://localhost:8080/"
    },
    "id": "a09dfec3",
    "outputId": "e5008017-8b95-4110-fd50-d7f5888f582c"
   },
   "outputs": [],
   "source": [
    "# import sklearn's ridge model with built-in cross-validation\n",
    "from sklearn.linear_model import RidgeCV \n",
    "\n",
    "# fit model using multivariate_model_feats and ridge regression\n",
    "RMSE_train, RMSE_test = fit_eval_model(X_train, y_train, X_test, y_test, labels, 'ridge')"
   ]
  },
  {
   "cell_type": "markdown",
   "id": "Fvp1TBfqTBiN",
   "metadata": {
    "id": "Fvp1TBfqTBiN"
   },
   "source": [
    "- What is the model's train and test error? How does this compare to the unregularized model we fit using all predictor variables? How does this model compare to the best univariate model we fit?\n",
    "  - The ridge model does much better (i.e., in terms of Test RMSE) than the unregularized model that uses all predictor vars.\n",
    "  - Unregularized_all_predictors_testRMSE: 3562241001\n",
    "  - Unregularized_best_univariate_testRMSE: 48243\n",
    "  - Regularized_all_predictors_testRMSE: 39004\n",
    "\n",
    "- What alpha value was selected using RidgeCV? Is it a lower or higher value? What does this value tell you about the model?\n",
    "  - This model is highly regularized/penalized since it has a large alpha value\n",
    "\n"
   ]
  },
  {
   "cell_type": "markdown",
   "id": "Zbw26P6XTKoT",
   "metadata": {
    "id": "Zbw26P6XTKoT"
   },
   "source": [
    "### LASSO\n",
    "- explain why there's a random state param in LASSO but not ridge\n"
   ]
  },
  {
   "cell_type": "code",
   "execution_count": null,
   "id": "SqtdDGF_r19h",
   "metadata": {
    "id": "SqtdDGF_r19h"
   },
   "outputs": [],
   "source": [
    "# edit train_linear_model to train ridge models as well\n",
    "def train_linear_model(X_train, y_train, model_type):\n",
    "    if model_type == \"unregularized\":\n",
    "        reg = LinearRegression().fit(X_train,y_train)\n",
    "    elif model_type == 'ridge':\n",
    "        reg = RidgeCV(alphas=[1e-3,1e-2,1e-1,1,10,100,1000], store_cv_values=True).fit(X_train,y_train)\n",
    "        print(reg.cv_values_.shape) # num_datapoints x num_alphas\n",
    "        print(np.mean(reg.cv_values_, axis=0))\n",
    "        print(reg.alpha_)\n",
    "    elif model_type == 'lasso':\n",
    "        reg = LassoCV(random_state=0, alphas=[1e-3,1e-2,1e-1,1,10,100,1000], max_iter=100000, tol=1e-3).fit(X_train,y_train)\n",
    "        print(reg.alpha_)\n",
    "        print(reg.alphas_)\n",
    "\n",
    "    else:\n",
    "        raise ValueError('Unexpected model_type encountered; model_type = ' + model_type)\n",
    "\n",
    "    # print number of estimated model coefficients. Need to add one to account for y-intercept (not included in reg.coef_ call)\n",
    "    print('# model coefs = ' + str(len(reg.coef_)+1))\n",
    "\n",
    "    return reg\n",
    "\n"
   ]
  },
  {
   "cell_type": "code",
   "execution_count": null,
   "id": "wdVZs_vOwVfW",
   "metadata": {
    "colab": {
     "base_uri": "https://localhost:8080/"
    },
    "id": "wdVZs_vOwVfW",
    "outputId": "8e3a21b6-4866-4fbb-c029-c9ad93da9f0d"
   },
   "outputs": [],
   "source": [
    "# import sklearn's lasso model with built-in cross-validation\n",
    "from sklearn.linear_model import LassoCV \n",
    "\n",
    "# fit model using multivariate_model_feats and ridge regression\n",
    "RMSE_train, RMSE_test = fit_eval_model(X_train, y_train, X_test, y_test, labels, 'lasso')"
   ]
  },
  {
   "cell_type": "markdown",
   "id": "0okG-D-LK4Cq",
   "metadata": {
    "id": "0okG-D-LK4Cq"
   },
   "source": [
    "Add elastic net option to function"
   ]
  },
  {
   "cell_type": "code",
   "execution_count": null,
   "id": "aoEdgKzey9Ci",
   "metadata": {
    "id": "aoEdgKzey9Ci"
   },
   "outputs": [],
   "source": [
    "# edit train_linear_model to train ridge models as well\n",
    "def train_linear_model(X_train, y_train, model_type):\n",
    "    if model_type == \"unregularized\":\n",
    "        reg = LinearRegression().fit(X_train,y_train)\n",
    "    elif model_type == 'ridge':\n",
    "        reg = RidgeCV(alphas=[1e-3,1e-2,1e-1,1,10,100,1000], store_cv_values=True).fit(X_train,y_train)\n",
    "        print(reg.cv_values_.shape) # num_datapoints x num_alphas\n",
    "        print(np.mean(reg.cv_values_, axis=0))\n",
    "        print('alpha:', reg.alpha_)\n",
    "    elif model_type == 'lasso':\n",
    "        reg = LassoCV(random_state=0, alphas=[1e-3,1e-2,1e-1,1,10,100,1000], max_iter=100000, tol=1e-3).fit(X_train,y_train)\n",
    "        print('alpha:', reg.alpha_)\n",
    "        print('alphas:', reg.alphas_)\n",
    "    elif model_type == 'elastic':\n",
    "        reg = ElasticNetCV(l1_ratio=[.1, .5, .7, .9, .95, .99, 1],alphas=[1e-5,1e-4,1e-3,1e-2,1e-1,1,10]).fit(X_train,y_train)\n",
    "        print('alpha:', reg.alpha_)\n",
    "        print('l1_ratio:', reg.l1_ratio_)\n",
    "    else:\n",
    "        raise ValueError('Unexpected model_type encountered; model_type = ' + model_type)\n",
    "\n",
    "    # print number of estimated model coefficients. Need to add one to account for y-intercept (not included in reg.coef_ call)\n",
    "    print('# model coefs = ' + str(len(reg.coef_)+1))\n",
    "\n",
    "    return reg\n",
    "\n"
   ]
  },
  {
   "cell_type": "code",
   "execution_count": null,
   "id": "i0tAZQUwLQt6",
   "metadata": {
    "colab": {
     "base_uri": "https://localhost:8080/"
    },
    "id": "i0tAZQUwLQt6",
    "outputId": "54ed6deb-18b6-4216-def5-344a35b7a1ec",
    "scrolled": true,
    "tags": []
   },
   "outputs": [],
   "source": [
    "from sklearn.linear_model import ElasticNetCV\n",
    "\n",
    "# fit model using multivariate_model_feats and ridge regression\n",
    "RMSE_train, RMSE_test = fit_eval_model(X_train, y_train, X_test, y_test, labels, 'elastic')"
   ]
  },
  {
   "cell_type": "code",
   "execution_count": null,
   "id": "2b6fdbfd",
   "metadata": {
    "id": "2b6fdbfd"
   },
   "outputs": [],
   "source": []
  },
  {
   "cell_type": "code",
   "execution_count": null,
   "id": "8d5adc17",
   "metadata": {
    "id": "8d5adc17"
   },
   "outputs": [],
   "source": []
  },
  {
   "cell_type": "code",
   "execution_count": null,
   "id": "09ec7611",
   "metadata": {
    "id": "09ec7611"
   },
   "outputs": [],
   "source": []
  },
  {
   "cell_type": "code",
   "execution_count": null,
   "id": "a5efb25a",
   "metadata": {
    "id": "a5efb25a"
   },
   "outputs": [],
   "source": []
  },
  {
   "cell_type": "code",
   "execution_count": null,
   "id": "e5211781",
   "metadata": {
    "id": "e5211781"
   },
   "outputs": [],
   "source": []
  },
  {
   "cell_type": "code",
   "execution_count": null,
   "id": "61a52d36",
   "metadata": {
    "id": "61a52d36"
   },
   "outputs": [],
   "source": []
  },
  {
   "cell_type": "code",
   "execution_count": null,
   "id": "3fcf7bb9",
   "metadata": {
    "id": "3fcf7bb9"
   },
   "outputs": [],
   "source": [
    "# Diabetes dataset\n",
    "\n",
    "# from sklearn import datasets\n",
    "# example datasets from sklean: https://scikit-learn.org/stable/modules/generated/sklearn.datasets.load_diabetes.html#sklearn.datasets.load_diabetes\n",
    "# iris_X, iris_y = datasets.load_iris(return_X_y=True)\n",
    "# more info on diabetes dataset: https://scikit-learn.org/stable/datasets/toy_dataset.html#diabetes-dataset\n",
    "# diabetes = datasets.load_diabetes(return_X_y=False,as_frame=False)\n",
    "# print(type(diabetes))\n",
    "# feat_names=diabetes['feature_names']\n",
    "# print(feat_names)\n",
    "# data=diabetes['data']\n",
    "# target=diabetes['target'] # the target is a quantitative measure of disease progression one year after baseline\n",
    "# print(data.shape)\n",
    "# print(target.shape)\n",
    "# print(diabetes_X.shape) # 442 observations, 10 features\n",
    "# diabetes_y\n",
    "\n",
    "# California housing dataset\n",
    "\n",
    "# from sklearn.datasets import fetch_california_housing\n",
    "# housing = fetch_california_housing()\n",
    "# # housing\n",
    "# feat_names=housing['feature_names']\n",
    "# print(feat_names)\n",
    "# print(len(feat_names))"
   ]
  }
 ],
 "metadata": {
  "colab": {
   "collapsed_sections": [
    "9uknZVyw5KO2",
    "83cff558",
    "6bb4f8a3"
   ],
   "provenance": []
  },
  "kernelspec": {
   "display_name": "Python 3 (ipykernel)",
   "language": "python",
   "name": "python3"
  },
  "language_info": {
   "codemirror_mode": {
    "name": "ipython",
    "version": 3
   },
   "file_extension": ".py",
   "mimetype": "text/x-python",
   "name": "python",
   "nbconvert_exporter": "python",
   "pygments_lexer": "ipython3",
   "version": "3.11.4"
  }
 },
 "nbformat": 4,
 "nbformat_minor": 5
}
