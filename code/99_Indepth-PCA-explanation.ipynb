{
 "cells": [
  {
   "cell_type": "markdown",
   "id": "c00122f3",
   "metadata": {},
   "source": [
    "# explain this:\n",
    "https://stats.stackexchange.com/questions/2691/making-sense-of-principal-component-analysis-eigenvectors-eigenvalues\n",
    "\n",
    "https://www.reddit.com/r/explainlikeimfive/comments/4w0qlm/eli5_principal_component_analysis/"
   ]
  },
  {
   "cell_type": "markdown",
   "id": "eafe2f16",
   "metadata": {},
   "source": [
    "# What is PCA?\n",
    "PCA is a __DIMENSIONALITY REDUCTION METHOD__ that lets you transform many dimensions in to fewer dimesions while still retaining most of the information from the original dimenions.\n",
    "\n",
    "Trade accuracy for simplicity\n",
    "\n",
    "Fewer dimensions means easier to: \n",
    "1. explore\n",
    "2. process\n",
    "3. vizualize\n",
    "\n",
    "but, *harder* to interpret.\n",
    "\n",
    "Another way to think about it, we're rotating the existing axes (dimensions) to new ones that are aligned with the greatest variance ('explainability') in the data.  \n"
   ]
  },
  {
   "cell_type": "markdown",
   "id": "54107b3e",
   "metadata": {},
   "source": [
    "# understanding how to use PCA\n",
    "PCA will standardize\n",
    "then tranform data set (proejct into PCs)\n",
    "you get back a transformed dataset that you can then use."
   ]
  },
  {
   "cell_type": "markdown",
   "id": "d31343f3",
   "metadata": {},
   "source": [
    "# Steps of PCA\n",
    "We'll use some words you might not be familiar with - hang in there it's easier than it seems.\n",
    "1. __standardize__\n",
    "2. __compute covariance matrix__ - ID correlations\n",
    "3. __compute eigenvectors and eigenvalues__ of the covariance matrix - ID principal components\n",
    "4. __create a feature vector__ to decide which prinicpal components ot keep\n",
    "5. __recast the data__ along the principle component axes"
   ]
  },
  {
   "cell_type": "markdown",
   "id": "fa9c1441",
   "metadata": {},
   "source": [
    "# Step One: Standardize\n",
    "\n",
    "## Why?\n",
    "1. standardize continuous variables' scales, so all contribute equally to the following steps.\n",
    "2. variance of initial variable matters.\n",
    "    1. a: 1 - 100000\n",
    "    2. b: 0-0.1\n",
    "    3. PCA without standardization will have a dominate over b\n",
    "    \n"
   ]
  },
  {
   "cell_type": "markdown",
   "id": "534bea22",
   "metadata": {},
   "source": [
    "# Standardize\n",
    "\n",
    "## How?\n",
    "\n",
    "_z = (value - mean) / (standard deviation)_\n",
    "\n",
    "each value is now zero centered, standard deviation = 1\n",
    "\n",
    "Note, each variable will retain it's original relative distribution.\n",
    "\n"
   ]
  },
  {
   "cell_type": "markdown",
   "id": "7be1c026",
   "metadata": {},
   "source": [
    "# Note how the axes have changed, \n",
    "# but the shape of the relative shape of the data hasn't.\n"
   ]
  },
  {
   "cell_type": "code",
   "execution_count": 6,
   "id": "f5e9d464",
   "metadata": {},
   "outputs": [],
   "source": [
    "# import helper_functions\n",
    "# df = ameshousing data df\n",
    "# helper_functions.demo_standardization('OverallQual', df)"
   ]
  },
  {
   "cell_type": "markdown",
   "id": "6407aaaa",
   "metadata": {},
   "source": [
    "# Step Two: Compute Covariance Matrix\n",
    "\n",
    "1. how do our input data dimensions vary from the mean with respect to each other?\n",
    "2. i.e. are they related?\n",
    "3. highly correlated variables are redundant\n",
    "4. The Covariance Matrix will tell us"
   ]
  },
  {
   "cell_type": "markdown",
   "id": "ff3ec55e",
   "metadata": {},
   "source": [
    "# Compute Covariance Matrix\n",
    "\n",
    "_p x p_ where _p_ is number of input dimensions\n",
    "\n",
    "|  | x| y| z|\n",
    "|--|--|--|--|\n",
    "|x |Cov(x, x)| Cov(x, y) | Cov(x, z) |\n",
    "|y |Cov(y, x)| Cov(y, y) | Cov(y, z) |\n",
    "|x |Cov(y, x)| Cov(z, y) | Cov(z, z) |\n",
    "\n",
    "\n",
    "_Cov(x,x) == Variance(x)_ the diagonal is each variable's variance\n",
    "\n",
    "_Cov(x,y) == Cov(y,x)_ the matrix is symmetrical around the diagonal\n",
    "\n",
    "positive covariance = correlated\n",
    "negative covariance = inversely correlated"
   ]
  },
  {
   "cell_type": "markdown",
   "id": "0569bacc",
   "metadata": {},
   "source": [
    "# Covariance formula for reference\n",
    "Cov(x, y) = ∑(x<sub>i</sub>-x̄)(y<sub>j</sub>-ȳ) / n - 1\n"
   ]
  },
  {
   "cell_type": "markdown",
   "id": "de80722f",
   "metadata": {},
   "source": [
    "# Step Three: Compute Eigenvectors and Eigenvalues\n",
    "\n",
    "1. linear algebra concepts needed to calculate principal components\n",
    "2. principal components:\n",
    "    1. new variables that are linear combinations or mixtures of initial variables\n",
    "    2. these new variables/principal components are built so:\n",
    "        1. they are not correlated\n",
    "        2. most of the information in the original variables is in the first few new variables\n",
    "        3. a 10 dim data set would give 10 possible prinicple components\n",
    "        4. BUT PCA tries to put as much information as possible in the first component\n",
    "        5. then as much of the remaining information as possble in the second component, and so on\n",
    "\n",
    "\n"
   ]
  },
  {
   "cell_type": "markdown",
   "id": "d2c69319",
   "metadata": {},
   "source": [
    "plot of PC % explained variance here?"
   ]
  },
  {
   "cell_type": "markdown",
   "id": "bcb96296",
   "metadata": {},
   "source": [
    "1. __There are as many PCs are variables in the data__\n",
    "\n",
    "2. NB: these new combo variables/principle components are hard to interpret because of that linear combination.\n",
    "\n",
    "3. think of PC as being a direction through the data that explains the maximum variance/captures the most information. \n",
    "\n",
    "4. more variance, more dispertion along that line, the more info there is\n",
    "\n",
    "5. i.e. a PC is a new axis that has the best angle to see/eval the data so that differences between obs are more visible\n"
   ]
  },
  {
   "cell_type": "markdown",
   "id": "b063690d",
   "metadata": {},
   "source": [
    "# Finding The First Principle Component\n",
    "\n",
    "The line through all the data with the __largest possible variance__ \n"
   ]
  },
  {
   "cell_type": "code",
   "execution_count": 9,
   "id": "33e608e4",
   "metadata": {},
   "outputs": [],
   "source": [
    "import numpy as np\n",
    "import matplotlib as mpl\n",
    "import matplotlib.pyplot as plt\n",
    "from sklearn.datasets import make_classification\n",
    "from typing import Tuple\n",
    "\n",
    "def create_feature_data() -> np.ndarray:\n",
    "    X1, Y1 = make_classification(\n",
    "        n_features=2, n_redundant=0, n_informative=2, n_clusters_per_class=1\n",
    "    )\n",
    "\n",
    "    feature_1 = [x for x, y in zip(X1, Y1) if y == 0 ]  \n",
    "    return np.stack(feature_1)\n",
    "\n",
    "\n",
    "def scatter_plot_with_1_deg_poly_fit(feature_1: np.ndarray,\n",
    "                                     axlims: Tuple[float, float]=None\n",
    "                                    ) -> plt.Figure:\n",
    "    plt.figure(figsize=(8, 8))\n",
    "    plt.title(\"Random data w/ 1 degree polynomial fit\")\n",
    "\n",
    "    poly = np.polynomial.Polynomial.fit(feature_1[:, 0], feature_1[:, 1], deg=1)\n",
    "\n",
    "    plt.scatter(feature_1[:, 0], feature_1[:, 1], marker=\"o\", s=25, edgecolor=\"k\", label='random data')\n",
    "    plt.plot(feature_1[:, 0], poly(feature_1[:, 0]), label='1 degree polynomial fit')\n",
    "    plt.legend()\n",
    "    plt.xlim(axlims)\n",
    "    plt.ylim(axlims)\n",
    "    return plt.Figure\n",
    "\n",
    "\n",
    "def scatter_plot_with_projection(feature_1: np.ndarray,\n",
    "                                 poly: np.polynomial.Polynomial = None,\n",
    "                                 ax:plt.Axes = None,\n",
    "                                 axlims: Tuple[float, float] = None\n",
    "                                 ) -> plt.Axes:\n",
    "    \n",
    "    # fig, ax = plt.subplots(1,1, figsize=(8,8))\n",
    "    if ax is None:\n",
    "        ax=plt.gca()\n",
    "    ax.set_title(\"Random data w/ projections to 1st degree polynomial fit\")\n",
    "\n",
    "    # create pc line and data projections on to that line\n",
    "    if not poly:\n",
    "        poly = np.polynomial.Polynomial.fit(feature_1[:, 0], feature_1[:, 1], deg=1)\n",
    "    proj_points = all_points_projection(feature_1, poly)\n",
    "    \n",
    "    # draw lines between data points and projection points\n",
    "    lines = [[(f[0], f[1]), (p[0], p[1])] for f, p in zip(feature_1, proj_points)]\n",
    "    lc = mpl.collections.LineCollection(lines, color='orange')\n",
    "\n",
    "\n",
    "    # plot data, poly fit, and lines from data to projection on poly fit\n",
    "    ax.scatter(feature_1[:, 0], feature_1[:, 1], marker=\"o\", s=25, edgecolor=\"k\")\n",
    "    ax.plot(feature_1[:, 0], poly(feature_1[:, 0]), label='1 degree polynomial fit')\n",
    "    ax.add_collection(lc)\n",
    "    \n",
    "    if axlims:\n",
    "        ax.set_ylim(axlims)\n",
    "        ax.set_xlim(axlims)\n",
    "    \n",
    "    # force plot to be square\n",
    "    plt.ylim(plt.xlim())\n",
    "\n",
    "    return ax\n",
    "\n",
    "\n",
    "def ClosestPointOnLine(p, poly):\n",
    "    a = np.array([feature_1[0, 0], poly(feature_1[0, 0])])\n",
    "    b = np.array([feature_1[0, -1], poly(feature_1[0, -1])])\n",
    "    \n",
    "    print(f'{p=}, {a=}, {b=}')\n",
    "    \n",
    "    ap = p-a\n",
    "    ab = b-a\n",
    "    result = a + np.dot(ap,ab)/np.dot(ab,ab) * ab\n",
    "    return result\n",
    "\n",
    "\n",
    "def projection(p3: Tuple[float, float], poly: np.polynomial.Polynomial):\n",
    "    \"\"\"return projected point of p3 onto line of poly\"\"\"\n",
    "    \n",
    "    # make p1 and p2 max x-extents of data\n",
    "    max_x = np.max()\n",
    "    min_x = np.min()\n",
    "    p1 = np.array([feature_1[0, 0], poly(feature_1[0, 0])])\n",
    "    p2 = np.array([feature_1[0, -1], poly(feature_1[0, -1])])\n",
    "    \n",
    "    # confirm points from poly being used for projection\n",
    "    plt.scatter([p1[0], p2[0]],\n",
    "                [p1[1], p2[1]],\n",
    "                marker='o', edgecolor='k',\n",
    "                c='red')\n",
    "\n",
    "    \n",
    "    # caluclate l2\n",
    "    l2 = np.sum((p1 - p2) ** 2)\n",
    "    if l2 == 0:\n",
    "        logging.warning('p1 and p2 are the same point')\n",
    "    \n",
    "\n",
    "    # calculate t (angent?)\n",
    "    t = np.sum((p3 - p1) * (p2 - p1)) / l2\n",
    "                   \n",
    "    if t > 1 or t < 0:\n",
    "        print('p3 does not project onto p1-p2 line segment')\n",
    "        \n",
    "    # calculate point projected on to poly-fit           \n",
    "    proj = p1 + t * (p2 - p1)   \n",
    "        \n",
    "    return proj\n",
    "\n",
    "\n",
    "def all_points_projection(data: np.ndarray, \n",
    "                          poly: np.polynomial.Polynomial) -> np.ndarray:\n",
    "    \"\"\"return projected points of all points in 'data' onto line of poly\"\"\"\n",
    "    \n",
    "    # make p1 and p2 max x-extents of data\n",
    "    max_x = np.max(data[:,0])\n",
    "    min_x = np.min(data[:,0])\n",
    "    p1 = np.array([min_x, poly(min_x)])\n",
    "    p2 = np.array([max_x, poly(max_x)])\n",
    "    \n",
    "    # calculate l2\n",
    "    l2 = np.sum((p1 - p2) ** 2)\n",
    "    if l2 == 0:\n",
    "        logging.warning('p1 and p2 are the same point')\n",
    "\n",
    "    proj_points = []\n",
    "    for p3 in data:\n",
    "        # TODO: vectorize\n",
    "        # calculate t\n",
    "        t = np.sum((p3 - p1) * (p2 - p1)) / l2\n",
    "\n",
    "        if t > 1 or t < 0:\n",
    "            print('p3 does not project onto p1-p2 line segment')\n",
    "\n",
    "        # calculate point projected on to poly-fit           \n",
    "        proj = p1 + t * (p2 - p1)   \n",
    "        proj_points.append(proj)\n",
    "\n",
    "    return np.vstack(proj_points)"
   ]
  },
  {
   "cell_type": "code",
   "execution_count": 10,
   "id": "73a4c3b7",
   "metadata": {},
   "outputs": [
    {
     "data": {
      "image/png": "[encoded data removed]",
      "text/plain": [
       "<Figure size 576x576 with 1 Axes>"
      ]
     },
     "metadata": {
      "needs_background": "light"
     },
     "output_type": "display_data"
    }
   ],
   "source": [
    "# Here is a random data feature, re-run until you like it:\n",
    "def create_feature_scatter_plot() -> Tuple[np.ndarray, Tuple[float, float]]:\n",
    "    feature_data = create_feature_data()\n",
    "    fig, ax = plt.subplots(1,1, figsize=(8, 8))\n",
    "    plt.scatter(feature_data[:,0], feature_data[:,1])\n",
    "    # ensure square plot\n",
    "    xlims = ax.get_xlim()\n",
    "    ylims = ax.get_ylim()\n",
    "    min_ax_val = min(xlims[0], ylims[0])\n",
    "    max_ax_val = max(xlims[1], ylims[1])\n",
    "    ax.set_xlim(min_ax_val, max_ax_val)\n",
    "    ax.set_ylim(min_ax_val, max_ax_val)\n",
    "    # label and plot\n",
    "    ax.set_title('random feature data scatter plot')\n",
    "    ax.set_xlabel('feature x value, arbitrary units')\n",
    "    ax.set_ylabel('feature y value, arbitrary units')\n",
    "    plt.show()\n",
    "    return feature_data, (min_ax_val, max_ax_val)\n",
    "\n",
    "feature, axlims = create_feature_scatter_plot()"
   ]
  },
  {
   "cell_type": "markdown",
   "id": "48bbfdab",
   "metadata": {},
   "source": [
    "### What is the line of best fit through this data?"
   ]
  },
  {
   "cell_type": "code",
   "execution_count": 11,
   "id": "3ef5c7a5",
   "metadata": {},
   "outputs": [
    {
     "data": {
      "image/png": "[encoded data removed]",
      "text/plain": [
       "<Figure size 576x576 with 1 Axes>"
      ]
     },
     "metadata": {
      "needs_background": "light"
     },
     "output_type": "display_data"
    }
   ],
   "source": [
    "ax = scatter_plot_with_1_deg_poly_fit(feature, axlims)"
   ]
  },
  {
   "cell_type": "markdown",
   "id": "3894052d",
   "metadata": {},
   "source": [
    "## How do we know this line has the most variance?"
   ]
  },
  {
   "cell_type": "markdown",
   "id": "e6afc7b4",
   "metadata": {},
   "source": [
    "1. if you project each data point on to that line of best fit\n",
    "2. then the sum of the distances of those projected points to the center of the line is the variance.\n",
    "3. more distance, more variance.\n",
    "4. most distance, most variance."
   ]
  },
  {
   "cell_type": "code",
   "execution_count": 13,
   "id": "7117a537",
   "metadata": {},
   "outputs": [
    {
     "data": {
      "image/png": "[encoded data removed]",
      "text/plain": [
       "<Figure size 576x576 with 1 Axes>"
      ]
     },
     "metadata": {
      "needs_background": "light"
     },
     "output_type": "display_data"
    }
   ],
   "source": [
    "fig, ax = plt.subplots(1, 1, figsize=(8,8))\n",
    "ax = scatter_plot_with_projection(feature, ax=ax, axlims=axlims)\n",
    "plt.show()"
   ]
  },
  {
   "cell_type": "code",
   "execution_count": 15,
   "id": "1f4fd41a",
   "metadata": {},
   "outputs": [
    {
     "data": {
      "image/png": "[encoded data removed]",
      "text/plain": [
       "<Figure size 576x576 with 1 Axes>"
      ]
     },
     "metadata": {
      "needs_background": "light"
     },
     "output_type": "display_data"
    }
   ],
   "source": [
    "from typing import List\n",
    "poly = np.polynomial.Polynomial.fit(feature[:, 0], feature[:, 1], deg=1)\n",
    "m, b = poly.coef\n",
    "# ortho_poly = np.polynomial.Polynomial.fit(feature[:, 0], \n",
    "#                                           feature[:, 0] * -m + b*2, \n",
    "#                                   deg=1)\n",
    "\n",
    "def new_line(m, x, b) -> float:\n",
    "    return m * x + b\n",
    "\n",
    "def orthogonal_line(feature, slope) -> Tuple[List[float], List[float]]: \n",
    "    perpendicular_slope = -(1/slope)\n",
    "    x_center_point = sum(feature[:, 0]) / len(feature[:, 0])\n",
    "    y_center_point = sum(feature[:, 1]) / len(feature[:, 1])\n",
    "    constant = y_center_point - (perpendicular_slope * x_center_point)\n",
    "\n",
    "    max_x = max(feature[:, 0])\n",
    "    max_y = perpendicular_slope * max_x + constant\n",
    "    min_x = min(feature[:, 0])\n",
    "    min_y = perpendicular_slope * min_x + constant\n",
    "    return [min_x, max_x], [min_y, max_y]\n",
    "\n",
    "ortho_x, ortho_y = orthogonal_line(feature, m)\n",
    "\n",
    "fig, ax = plt.subplots(1, 1, figsize=(8, 8))\n",
    "scatter_plot_with_projection(feature, ax=ax)\n",
    "ax.plot(ortho_x, ortho_y, color='green')\n",
    "#scatter_plot_with_projection(feature, poly=ortho_poly, ax=ax)\n",
    "plt.show()\n"
   ]
  },
  {
   "cell_type": "markdown",
   "id": "88c7f9d3",
   "metadata": {},
   "source": [
    "The line through all the data with the __largest possible variance__ \n",
    "\n",
    "i.e. the average of the squared distances from the projected points to the origin."
   ]
  },
  {
   "cell_type": "markdown",
   "id": "3268093d",
   "metadata": {},
   "source": [
    "The second PC is found in the same way \n",
    "    - with the condition that it is perpendicular to the first PC\n",
    "   \n",
    "Keep going in that was till # PCs = # dimensions/variables\n"
   ]
  },
  {
   "cell_type": "markdown",
   "id": "8167509a",
   "metadata": {},
   "source": [
    "## eigenvectors and eigenvalues\n",
    "alwyas come in pairs - every eigenvector has an eigen value\n",
    "one for every dimension\n",
    "10 dimensions, 10 eigenvectors with 10 eigen values.\n",
    "\n",
    "the eigenvectors for the covariance matrix are the directions of the axes where there is the most variance, i.e. a Principle Component. An eigenvalue is a coefficient attached to an eigenvector - the amount of variance in each principle component\n",
    "\n",
    "rank eigenvectors by eigenvalues and you get PCs in order of significance.\n",
    "\n",
    "% of variance caluclated by eigenvalue/sum(eigenvalues)"
   ]
  },
  {
   "cell_type": "markdown",
   "id": "436116b0",
   "metadata": {},
   "source": [
    "## Feature vector\n",
    "choose which PCs to keep (discard low eigenvalue PCs)\n",
    "form a matrix of vectors with the PCs you keep: the feature vector.\n",
    "\n",
    "a matrix w/ columns == eigenvectors of the kept PCs.\n",
    "\n",
    "dimensionality reduction is happening here\n",
    "\n",
    "fewer kepts PCs means feature dimensions.\n",
    "\n",
    "lose that % of information (hopefully small), but get reduced complexity\n"
   ]
  },
  {
   "cell_type": "markdown",
   "id": "5fa97cef",
   "metadata": {},
   "source": [
    "## Recast the Data\n",
    "Recast the data along the principle component axes\n",
    "to this point no change in the data (unless you count the standardization)\n",
    "now use the feature vector to reorient the data\n",
    "    from original axes to the ones represented by the PCs\n",
    "achieve this by multiplying the the transpose of the original dataset\n",
    "with the transpose of the feature vector\n",
    "\n",
    "final_dataset = feature_vector<sup>T</sup> * standardized_original_dataset<sup>T</sup>"
   ]
  },
  {
   "cell_type": "code",
   "execution_count": 18,
   "id": "8a45dac5",
   "metadata": {},
   "outputs": [
    {
     "ename": "NameError",
     "evalue": "name 'X' is not defined",
     "output_type": "error",
     "traceback": [
      "\u001b[0;31m---------------------------------------------------------------------------\u001b[0m",
      "\u001b[0;31mNameError\u001b[0m                                 Traceback (most recent call last)",
      "\u001b[0;32m/var/folders/l1/lw5v0ldj28152tt1ds0t13300000gp/T/ipykernel_65635/1217188366.py\u001b[0m in \u001b[0;36m<module>\u001b[0;34m\u001b[0m\n\u001b[1;32m      1\u001b[0m \u001b[0;32mfrom\u001b[0m \u001b[0msklearn\u001b[0m\u001b[0;34m.\u001b[0m\u001b[0mdecomposition\u001b[0m \u001b[0;32mimport\u001b[0m \u001b[0mPCA\u001b[0m\u001b[0;34m\u001b[0m\u001b[0;34m\u001b[0m\u001b[0m\n\u001b[0;32m----> 2\u001b[0;31m \u001b[0mp\u001b[0m \u001b[0;34m=\u001b[0m \u001b[0mPCA\u001b[0m\u001b[0;34m(\u001b[0m\u001b[0mn_components\u001b[0m\u001b[0;34m=\u001b[0m\u001b[0mlen\u001b[0m\u001b[0;34m(\u001b[0m\u001b[0mX\u001b[0m\u001b[0;34m.\u001b[0m\u001b[0mcolumns\u001b[0m\u001b[0;34m.\u001b[0m\u001b[0mtolist\u001b[0m\u001b[0;34m(\u001b[0m\u001b[0;34m)\u001b[0m\u001b[0;34m)\u001b[0m\u001b[0;34m)\u001b[0m\u001b[0;34m\u001b[0m\u001b[0;34m\u001b[0m\u001b[0m\n\u001b[0m\u001b[1;32m      3\u001b[0m \u001b[0mp\u001b[0m\u001b[0;34m.\u001b[0m\u001b[0mfit\u001b[0m\u001b[0;34m(\u001b[0m\u001b[0mX\u001b[0m\u001b[0;34m)\u001b[0m\u001b[0;34m\u001b[0m\u001b[0;34m\u001b[0m\u001b[0m\n",
      "\u001b[0;31mNameError\u001b[0m: name 'X' is not defined"
     ]
    }
   ],
   "source": [
    "from sklearn.decomposition import PCA\n",
    "p = PCA(n_components=len(X.columns.tolist()))\n",
    "p.fit(X)"
   ]
  },
  {
   "cell_type": "code",
   "execution_count": 19,
   "id": "952c6e2c",
   "metadata": {},
   "outputs": [
    {
     "ename": "NameError",
     "evalue": "name 'sklearn' is not defined",
     "output_type": "error",
     "traceback": [
      "\u001b[0;31m---------------------------------------------------------------------------\u001b[0m",
      "\u001b[0;31mNameError\u001b[0m                                 Traceback (most recent call last)",
      "\u001b[0;32m/var/folders/l1/lw5v0ldj28152tt1ds0t13300000gp/T/ipykernel_65635/3024718431.py\u001b[0m in \u001b[0;36m<module>\u001b[0;34m\u001b[0m\n\u001b[0;32m----> 1\u001b[0;31m \u001b[0;32mdef\u001b[0m \u001b[0mplot_eigenvectors\u001b[0m\u001b[0;34m(\u001b[0m\u001b[0mp\u001b[0m\u001b[0;34m:\u001b[0m \u001b[0msklearn\u001b[0m\u001b[0;34m.\u001b[0m\u001b[0mdecomposition\u001b[0m\u001b[0;34m.\u001b[0m\u001b[0m_pca\u001b[0m\u001b[0;34m.\u001b[0m\u001b[0mPCA\u001b[0m\u001b[0;34m)\u001b[0m \u001b[0;34m->\u001b[0m \u001b[0mTuple\u001b[0m\u001b[0;34m[\u001b[0m\u001b[0mplt\u001b[0m\u001b[0;34m.\u001b[0m\u001b[0mFigure\u001b[0m\u001b[0;34m,\u001b[0m \u001b[0mplt\u001b[0m\u001b[0;34m.\u001b[0m\u001b[0mAxes\u001b[0m\u001b[0;34m]\u001b[0m\u001b[0;34m:\u001b[0m\u001b[0;34m\u001b[0m\u001b[0;34m\u001b[0m\u001b[0m\n\u001b[0m\u001b[1;32m      2\u001b[0m     \u001b[0mprint\u001b[0m\u001b[0;34m(\u001b[0m\u001b[0;34mf'{p.components_.shape=}'\u001b[0m\u001b[0;34m)\u001b[0m\u001b[0;34m\u001b[0m\u001b[0;34m\u001b[0m\u001b[0m\n\u001b[1;32m      3\u001b[0m     \u001b[0mfig\u001b[0m\u001b[0;34m,\u001b[0m \u001b[0max\u001b[0m \u001b[0;34m=\u001b[0m \u001b[0mplt\u001b[0m\u001b[0;34m.\u001b[0m\u001b[0msubplots\u001b[0m\u001b[0;34m(\u001b[0m\u001b[0;36m1\u001b[0m\u001b[0;34m,\u001b[0m\u001b[0;36m1\u001b[0m\u001b[0;34m)\u001b[0m\u001b[0;34m\u001b[0m\u001b[0;34m\u001b[0m\u001b[0m\n\u001b[1;32m      4\u001b[0m     \u001b[0mim\u001b[0m \u001b[0;34m=\u001b[0m \u001b[0max\u001b[0m\u001b[0;34m.\u001b[0m\u001b[0mpcolormesh\u001b[0m\u001b[0;34m(\u001b[0m\u001b[0mabs\u001b[0m\u001b[0;34m(\u001b[0m\u001b[0mp\u001b[0m\u001b[0;34m.\u001b[0m\u001b[0mcomponents_\u001b[0m\u001b[0;34m.\u001b[0m\u001b[0mT\u001b[0m\u001b[0;34m)\u001b[0m\u001b[0;34m,\u001b[0m \u001b[0mnorm\u001b[0m\u001b[0;34m=\u001b[0m\u001b[0mmpl\u001b[0m\u001b[0;34m.\u001b[0m\u001b[0mcolors\u001b[0m\u001b[0;34m.\u001b[0m\u001b[0mLogNorm\u001b[0m\u001b[0;34m(\u001b[0m\u001b[0mvmin\u001b[0m\u001b[0;34m=\u001b[0m\u001b[0;36m1e-6\u001b[0m\u001b[0;34m)\u001b[0m\u001b[0;34m)\u001b[0m\u001b[0;34m\u001b[0m\u001b[0;34m\u001b[0m\u001b[0m\n\u001b[1;32m      5\u001b[0m     \u001b[0max\u001b[0m\u001b[0;34m.\u001b[0m\u001b[0mset_title\u001b[0m\u001b[0;34m(\u001b[0m\u001b[0;34m'heat map of absolute values of PCA eigenvectors'\u001b[0m\u001b[0;34m)\u001b[0m\u001b[0;34m\u001b[0m\u001b[0;34m\u001b[0m\u001b[0m\n",
      "\u001b[0;31mNameError\u001b[0m: name 'sklearn' is not defined"
     ]
    }
   ],
   "source": [
    "def plot_eigenvectors(p: sklearn.decomposition._pca.PCA) -> Tuple[plt.Figure, plt.Axes]:\n",
    "    print(f'{p.components_.shape=}')\n",
    "    fig, ax = plt.subplots(1,1)\n",
    "    im = ax.pcolormesh(abs(p.components_.T), norm=mpl.colors.LogNorm(vmin=1e-6))\n",
    "    ax.set_title('heat map of absolute values of PCA eigenvectors')\n",
    "    ax.set_ylabel('eigenvector value')\n",
    "    ax.set_xlabel('eigenvector')\n",
    "    plt.colorbar(im)\n",
    "    return plt.Figure, plt.Axes"
   ]
  },
  {
   "cell_type": "code",
   "execution_count": 20,
   "id": "8e8e1ac4",
   "metadata": {},
   "outputs": [
    {
     "ename": "NameError",
     "evalue": "name 'plot_eigenvectors' is not defined",
     "output_type": "error",
     "traceback": [
      "\u001b[0;31m---------------------------------------------------------------------------\u001b[0m",
      "\u001b[0;31mNameError\u001b[0m                                 Traceback (most recent call last)",
      "\u001b[0;32m/var/folders/l1/lw5v0ldj28152tt1ds0t13300000gp/T/ipykernel_65635/3114608357.py\u001b[0m in \u001b[0;36m<module>\u001b[0;34m\u001b[0m\n\u001b[0;32m----> 1\u001b[0;31m \u001b[0mplot_eigenvectors\u001b[0m\u001b[0;34m(\u001b[0m\u001b[0mp\u001b[0m\u001b[0;34m)\u001b[0m\u001b[0;34m\u001b[0m\u001b[0;34m\u001b[0m\u001b[0m\n\u001b[0m\u001b[1;32m      2\u001b[0m \u001b[0mplt\u001b[0m\u001b[0;34m.\u001b[0m\u001b[0mshow\u001b[0m\u001b[0;34m(\u001b[0m\u001b[0;34m)\u001b[0m\u001b[0;34m\u001b[0m\u001b[0;34m\u001b[0m\u001b[0m\n",
      "\u001b[0;31mNameError\u001b[0m: name 'plot_eigenvectors' is not defined"
     ]
    }
   ],
   "source": [
    "plot_eigenvectors(p)\n",
    "plt.show()"
   ]
  },
  {
   "cell_type": "code",
   "execution_count": 21,
   "id": "f823fb4c",
   "metadata": {},
   "outputs": [
    {
     "ename": "NameError",
     "evalue": "name 'X' is not defined",
     "output_type": "error",
     "traceback": [
      "\u001b[0;31m---------------------------------------------------------------------------\u001b[0m",
      "\u001b[0;31mNameError\u001b[0m                                 Traceback (most recent call last)",
      "\u001b[0;32m/var/folders/l1/lw5v0ldj28152tt1ds0t13300000gp/T/ipykernel_65635/507714838.py\u001b[0m in \u001b[0;36m<module>\u001b[0;34m\u001b[0m\n\u001b[1;32m      1\u001b[0m \u001b[0mp\u001b[0m \u001b[0;34m=\u001b[0m \u001b[0mPCA\u001b[0m\u001b[0;34m(\u001b[0m\u001b[0mn_components\u001b[0m\u001b[0;34m=\u001b[0m\u001b[0;36m2\u001b[0m\u001b[0;34m)\u001b[0m\u001b[0;34m\u001b[0m\u001b[0;34m\u001b[0m\u001b[0m\n\u001b[0;32m----> 2\u001b[0;31m \u001b[0mp\u001b[0m\u001b[0;34m.\u001b[0m\u001b[0mfit\u001b[0m\u001b[0;34m(\u001b[0m\u001b[0mX\u001b[0m\u001b[0;34m)\u001b[0m\u001b[0;34m\u001b[0m\u001b[0;34m\u001b[0m\u001b[0m\n\u001b[0m",
      "\u001b[0;31mNameError\u001b[0m: name 'X' is not defined"
     ]
    }
   ],
   "source": [
    "p = PCA(n_components=2)\n",
    "p.fit(X)"
   ]
  },
  {
   "cell_type": "code",
   "execution_count": 22,
   "id": "1be2459f",
   "metadata": {},
   "outputs": [
    {
     "ename": "NameError",
     "evalue": "name 'plot_eigenvectors' is not defined",
     "output_type": "error",
     "traceback": [
      "\u001b[0;31m---------------------------------------------------------------------------\u001b[0m",
      "\u001b[0;31mNameError\u001b[0m                                 Traceback (most recent call last)",
      "\u001b[0;32m/var/folders/l1/lw5v0ldj28152tt1ds0t13300000gp/T/ipykernel_65635/10184695.py\u001b[0m in \u001b[0;36m<module>\u001b[0;34m\u001b[0m\n\u001b[0;32m----> 1\u001b[0;31m \u001b[0mplot_eigenvectors\u001b[0m\u001b[0;34m(\u001b[0m\u001b[0mp\u001b[0m\u001b[0;34m)\u001b[0m\u001b[0;34m\u001b[0m\u001b[0;34m\u001b[0m\u001b[0m\n\u001b[0m\u001b[1;32m      2\u001b[0m \u001b[0mplt\u001b[0m\u001b[0;34m.\u001b[0m\u001b[0mshow\u001b[0m\u001b[0;34m(\u001b[0m\u001b[0;34m)\u001b[0m\u001b[0;34m\u001b[0m\u001b[0;34m\u001b[0m\u001b[0m\n\u001b[1;32m      3\u001b[0m \u001b[0;31m# make sure fit doesn't have target value in it!!\u001b[0m\u001b[0;34m\u001b[0m\u001b[0;34m\u001b[0m\u001b[0m\n\u001b[1;32m      4\u001b[0m \u001b[0;31m# ensure column names are what you want\u001b[0m\u001b[0;34m\u001b[0m\u001b[0;34m\u001b[0m\u001b[0m\n\u001b[1;32m      5\u001b[0m \u001b[0;31m# don't fit on non-numerics, non-nans\u001b[0m\u001b[0;34m\u001b[0m\u001b[0;34m\u001b[0m\u001b[0m\n",
      "\u001b[0;31mNameError\u001b[0m: name 'plot_eigenvectors' is not defined"
     ]
    }
   ],
   "source": [
    "plot_eigenvectors(p)\n",
    "plt.show()\n",
    "# make sure fit doesn't have target value in it!!\n",
    "# ensure column names are what you want\n",
    "# don't fit on non-numerics, non-nans\n",
    "# plot out eigenvector plots w/ column names (for top x variables...)\n",
    "# point out properties of the plot:\n",
    "# What is each vector highlighting?\n",
    "# many small values - many variables are correlated\n",
    "# see if stronger vals correlate with top 30 / bottom 30 analysis."
   ]
  },
  {
   "cell_type": "code",
   "execution_count": 23,
   "id": "b3573b7b",
   "metadata": {},
   "outputs": [
    {
     "ename": "NameError",
     "evalue": "name 'numeric_cols' is not defined",
     "output_type": "error",
     "traceback": [
      "\u001b[0;31m---------------------------------------------------------------------------\u001b[0m",
      "\u001b[0;31mNameError\u001b[0m                                 Traceback (most recent call last)",
      "\u001b[0;32m/var/folders/l1/lw5v0ldj28152tt1ds0t13300000gp/T/ipykernel_65635/363787251.py\u001b[0m in \u001b[0;36m<module>\u001b[0;34m\u001b[0m\n\u001b[0;32m----> 1\u001b[0;31m \u001b[0mcols_i_care_about\u001b[0m \u001b[0;34m=\u001b[0m \u001b[0;34m[\u001b[0m\u001b[0mx\u001b[0m \u001b[0;32mfor\u001b[0m \u001b[0mx\u001b[0m \u001b[0;32min\u001b[0m \u001b[0mnumeric_cols\u001b[0m \u001b[0;32mif\u001b[0m \u001b[0mx\u001b[0m \u001b[0;32mnot\u001b[0m \u001b[0;32min\u001b[0m \u001b[0;34m[\u001b[0m\u001b[0;34m'GarageYrBlt'\u001b[0m\u001b[0;34m,\u001b[0m \u001b[0;34m'LotFrontage'\u001b[0m\u001b[0;34m,\u001b[0m \u001b[0;34m'MasVnrArea'\u001b[0m\u001b[0;34m,\u001b[0m \u001b[0;34m'SalePrice'\u001b[0m\u001b[0;34m,\u001b[0m \u001b[0;34m'hue'\u001b[0m\u001b[0;34m]\u001b[0m\u001b[0;34m]\u001b[0m\u001b[0;34m\u001b[0m\u001b[0;34m\u001b[0m\u001b[0m\n\u001b[0m\u001b[1;32m      2\u001b[0m \u001b[0;32mfor\u001b[0m \u001b[0mv\u001b[0m \u001b[0;32min\u001b[0m \u001b[0mp\u001b[0m\u001b[0;34m.\u001b[0m\u001b[0mcomponents_\u001b[0m\u001b[0;34m:\u001b[0m\u001b[0;34m\u001b[0m\u001b[0;34m\u001b[0m\u001b[0m\n\u001b[1;32m      3\u001b[0m     \u001b[0mv\u001b[0m \u001b[0;34m=\u001b[0m \u001b[0mabs\u001b[0m\u001b[0;34m(\u001b[0m\u001b[0mv\u001b[0m\u001b[0;34m)\u001b[0m\u001b[0;34m\u001b[0m\u001b[0;34m\u001b[0m\u001b[0m\n\u001b[1;32m      4\u001b[0m     \u001b[0mmax_v\u001b[0m \u001b[0;34m=\u001b[0m \u001b[0mmax\u001b[0m\u001b[0;34m(\u001b[0m\u001b[0mv\u001b[0m\u001b[0;34m)\u001b[0m\u001b[0;34m\u001b[0m\u001b[0;34m\u001b[0m\u001b[0m\n\u001b[1;32m      5\u001b[0m     \u001b[0midx\u001b[0m \u001b[0;34m=\u001b[0m \u001b[0mv\u001b[0m\u001b[0;34m.\u001b[0m\u001b[0mtolist\u001b[0m\u001b[0;34m(\u001b[0m\u001b[0;34m)\u001b[0m\u001b[0;34m.\u001b[0m\u001b[0mindex\u001b[0m\u001b[0;34m(\u001b[0m\u001b[0mmax_v\u001b[0m\u001b[0;34m)\u001b[0m\u001b[0;34m\u001b[0m\u001b[0;34m\u001b[0m\u001b[0m\n",
      "\u001b[0;31mNameError\u001b[0m: name 'numeric_cols' is not defined"
     ]
    }
   ],
   "source": [
    "cols_i_care_about = [x for x in numeric_cols if x not in ['GarageYrBlt', 'LotFrontage', 'MasVnrArea', 'SalePrice', 'hue']]\n",
    "for v in p.components_:\n",
    "    v = abs(v)\n",
    "    max_v = max(v)\n",
    "    idx = v.tolist().index(max_v)\n",
    "    print(max_v, idx, cols_i_care_about[idx])"
   ]
  },
  {
   "cell_type": "code",
   "execution_count": 24,
   "id": "3d7f07b0",
   "metadata": {},
   "outputs": [
    {
     "ename": "NameError",
     "evalue": "name 'df' is not defined",
     "output_type": "error",
     "traceback": [
      "\u001b[0;31m---------------------------------------------------------------------------\u001b[0m",
      "\u001b[0;31mNameError\u001b[0m                                 Traceback (most recent call last)",
      "\u001b[0;32m/var/folders/l1/lw5v0ldj28152tt1ds0t13300000gp/T/ipykernel_65635/2507844673.py\u001b[0m in \u001b[0;36m<module>\u001b[0;34m\u001b[0m\n\u001b[0;32m----> 1\u001b[0;31m \u001b[0;32mfor\u001b[0m \u001b[0mi\u001b[0m\u001b[0;34m,\u001b[0m \u001b[0mx\u001b[0m \u001b[0;32min\u001b[0m \u001b[0menumerate\u001b[0m\u001b[0;34m(\u001b[0m\u001b[0mdf\u001b[0m\u001b[0;34m.\u001b[0m\u001b[0mcolumns\u001b[0m\u001b[0;34m.\u001b[0m\u001b[0mtolist\u001b[0m\u001b[0;34m(\u001b[0m\u001b[0;34m)\u001b[0m\u001b[0;34m)\u001b[0m\u001b[0;34m:\u001b[0m\u001b[0;34m\u001b[0m\u001b[0;34m\u001b[0m\u001b[0m\n\u001b[0m\u001b[1;32m      2\u001b[0m     \u001b[0mprint\u001b[0m\u001b[0;34m(\u001b[0m\u001b[0mi\u001b[0m\u001b[0;34m,\u001b[0m \u001b[0mx\u001b[0m\u001b[0;34m)\u001b[0m\u001b[0;34m\u001b[0m\u001b[0;34m\u001b[0m\u001b[0m\n",
      "\u001b[0;31mNameError\u001b[0m: name 'df' is not defined"
     ]
    }
   ],
   "source": [
    "for i, x in enumerate(df.columns.tolist()):\n",
    "    print(i, x)"
   ]
  },
  {
   "cell_type": "code",
   "execution_count": 25,
   "id": "76b9fd64",
   "metadata": {},
   "outputs": [
    {
     "ename": "NameError",
     "evalue": "name 'plot_eigenvectors' is not defined",
     "output_type": "error",
     "traceback": [
      "\u001b[0;31m---------------------------------------------------------------------------\u001b[0m",
      "\u001b[0;31mNameError\u001b[0m                                 Traceback (most recent call last)",
      "\u001b[0;32m/var/folders/l1/lw5v0ldj28152tt1ds0t13300000gp/T/ipykernel_65635/4259798123.py\u001b[0m in \u001b[0;36m<module>\u001b[0;34m\u001b[0m\n\u001b[1;32m      3\u001b[0m \u001b[0;34m\u001b[0m\u001b[0m\n\u001b[1;32m      4\u001b[0m \u001b[0;34m\u001b[0m\u001b[0m\n\u001b[0;32m----> 5\u001b[0;31m \u001b[0mplot_eigenvectors\u001b[0m\u001b[0;34m(\u001b[0m\u001b[0mp\u001b[0m\u001b[0;34m)\u001b[0m\u001b[0;34m\u001b[0m\u001b[0;34m\u001b[0m\u001b[0m\n\u001b[0m\u001b[1;32m      6\u001b[0m \u001b[0mplt\u001b[0m\u001b[0;34m.\u001b[0m\u001b[0mshow\u001b[0m\u001b[0;34m(\u001b[0m\u001b[0;34m)\u001b[0m\u001b[0;34m\u001b[0m\u001b[0;34m\u001b[0m\u001b[0m\n",
      "\u001b[0;31mNameError\u001b[0m: name 'plot_eigenvectors' is not defined"
     ]
    }
   ],
   "source": [
    "# eigenvectors (what is being used to transform the data)\n",
    "import matplotlib as mpl\n",
    "\n",
    "\n",
    "plot_eigenvectors(p)\n",
    "plt.show()\n"
   ]
  },
  {
   "cell_type": "code",
   "execution_count": 26,
   "id": "1abc699e",
   "metadata": {},
   "outputs": [
    {
     "ename": "NameError",
     "evalue": "name 'X' is not defined",
     "output_type": "error",
     "traceback": [
      "\u001b[0;31m---------------------------------------------------------------------------\u001b[0m",
      "\u001b[0;31mNameError\u001b[0m                                 Traceback (most recent call last)",
      "\u001b[0;32m/var/folders/l1/lw5v0ldj28152tt1ds0t13300000gp/T/ipykernel_65635/3923383243.py\u001b[0m in \u001b[0;36m<module>\u001b[0;34m\u001b[0m\n\u001b[0;32m----> 1\u001b[0;31m \u001b[0mcomponents\u001b[0m \u001b[0;34m=\u001b[0m \u001b[0mp\u001b[0m\u001b[0;34m.\u001b[0m\u001b[0mtransform\u001b[0m\u001b[0;34m(\u001b[0m\u001b[0mX\u001b[0m\u001b[0;34m)\u001b[0m\u001b[0;34m\u001b[0m\u001b[0;34m\u001b[0m\u001b[0m\n\u001b[0m\u001b[1;32m      2\u001b[0m \u001b[0mcomponents\u001b[0m\u001b[0;34m.\u001b[0m\u001b[0mshape\u001b[0m\u001b[0;34m\u001b[0m\u001b[0;34m\u001b[0m\u001b[0m\n",
      "\u001b[0;31mNameError\u001b[0m: name 'X' is not defined"
     ]
    }
   ],
   "source": [
    "components = p.transform(X)\n",
    "components.shape"
   ]
  },
  {
   "cell_type": "code",
   "execution_count": 27,
   "id": "ea63ab79",
   "metadata": {},
   "outputs": [],
   "source": [
    "# WHAT JUST HAPPENED?\n",
    "\n",
    "# what did PCA just do?\n",
    "\n",
    "# (it's not magic)"
   ]
  },
  {
   "cell_type": "code",
   "execution_count": 28,
   "id": "eb911e26",
   "metadata": {},
   "outputs": [
    {
     "ename": "NameError",
     "evalue": "name 'pd' is not defined",
     "output_type": "error",
     "traceback": [
      "\u001b[0;31m---------------------------------------------------------------------------\u001b[0m",
      "\u001b[0;31mNameError\u001b[0m                                 Traceback (most recent call last)",
      "\u001b[0;32m/var/folders/l1/lw5v0ldj28152tt1ds0t13300000gp/T/ipykernel_65635/1812483178.py\u001b[0m in \u001b[0;36m<module>\u001b[0;34m\u001b[0m\n\u001b[1;32m      1\u001b[0m \u001b[0;31m# plot explained_variance_ratio - how well do the two components explain variance?\u001b[0m\u001b[0;34m\u001b[0m\u001b[0;34m\u001b[0m\u001b[0m\n\u001b[0;32m----> 2\u001b[0;31m component_df = pd.DataFrame(\n\u001b[0m\u001b[1;32m      3\u001b[0m     {\n\u001b[1;32m      4\u001b[0m         \u001b[0;34m'pc0'\u001b[0m\u001b[0;34m:\u001b[0m\u001b[0mp\u001b[0m\u001b[0;34m.\u001b[0m\u001b[0mexplained_variance_ratio_\u001b[0m\u001b[0;34m[\u001b[0m\u001b[0;36m0\u001b[0m\u001b[0;34m]\u001b[0m\u001b[0;34m,\u001b[0m\u001b[0;34m\u001b[0m\u001b[0;34m\u001b[0m\u001b[0m\n\u001b[1;32m      5\u001b[0m         \u001b[0;34m'pc1'\u001b[0m\u001b[0;34m:\u001b[0m\u001b[0mp\u001b[0m\u001b[0;34m.\u001b[0m\u001b[0mexplained_variance_ratio_\u001b[0m\u001b[0;34m[\u001b[0m\u001b[0;36m1\u001b[0m\u001b[0;34m]\u001b[0m\u001b[0;34m\u001b[0m\u001b[0;34m\u001b[0m\u001b[0m\n",
      "\u001b[0;31mNameError\u001b[0m: name 'pd' is not defined"
     ]
    }
   ],
   "source": [
    "# plot explained_variance_ratio - how well do the two components explain variance?\n",
    "component_df = pd.DataFrame(\n",
    "    {\n",
    "        'pc0':p.explained_variance_ratio_[0],\n",
    "        'pc1':p.explained_variance_ratio_[1]\n",
    "    },\n",
    "    index=[0]\n",
    ")\n",
    "\n",
    "fig, ax = plt.subplots(1,1,figsize=(8,6))\n",
    "sns.barplot(data=component_df, ax=ax)\n",
    "ax.set_title(\"bar plot of principal components' explained variance ratios\")\n",
    "ax.set_xlabel('principal component')\n",
    "ax.set_ylabel('explained variance ratio')\n",
    "plt.show()"
   ]
  },
  {
   "cell_type": "code",
   "execution_count": 29,
   "id": "2578fce4",
   "metadata": {},
   "outputs": [
    {
     "ename": "NameError",
     "evalue": "name 'sns' is not defined",
     "output_type": "error",
     "traceback": [
      "\u001b[0;31m---------------------------------------------------------------------------\u001b[0m",
      "\u001b[0;31mNameError\u001b[0m                                 Traceback (most recent call last)",
      "\u001b[0;32m/var/folders/l1/lw5v0ldj28152tt1ds0t13300000gp/T/ipykernel_65635/389035889.py\u001b[0m in \u001b[0;36m<module>\u001b[0;34m\u001b[0m\n\u001b[1;32m      4\u001b[0m \u001b[0;32mwith\u001b[0m \u001b[0mmpl\u001b[0m\u001b[0;34m.\u001b[0m\u001b[0mrc_context\u001b[0m\u001b[0;34m(\u001b[0m\u001b[0;34m{\u001b[0m\u001b[0;34m'font.size'\u001b[0m\u001b[0;34m:\u001b[0m \u001b[0;36m14\u001b[0m\u001b[0;34m}\u001b[0m\u001b[0;34m)\u001b[0m\u001b[0;34m:\u001b[0m\u001b[0;34m\u001b[0m\u001b[0;34m\u001b[0m\u001b[0m\n\u001b[1;32m      5\u001b[0m     \u001b[0mfig\u001b[0m\u001b[0;34m,\u001b[0m \u001b[0max\u001b[0m \u001b[0;34m=\u001b[0m \u001b[0mplt\u001b[0m\u001b[0;34m.\u001b[0m\u001b[0msubplots\u001b[0m\u001b[0;34m(\u001b[0m\u001b[0;36m1\u001b[0m\u001b[0;34m,\u001b[0m \u001b[0;36m1\u001b[0m\u001b[0;34m,\u001b[0m \u001b[0mfigsize\u001b[0m\u001b[0;34m=\u001b[0m\u001b[0;34m(\u001b[0m\u001b[0;36m8\u001b[0m\u001b[0;34m,\u001b[0m \u001b[0;36m6\u001b[0m\u001b[0;34m)\u001b[0m\u001b[0;34m)\u001b[0m\u001b[0;34m\u001b[0m\u001b[0;34m\u001b[0m\u001b[0m\n\u001b[0;32m----> 6\u001b[0;31m     sns.histplot(pd.DataFrame(components,\n\u001b[0m\u001b[1;32m      7\u001b[0m                               columns=['pc0','pc1']),\n\u001b[1;32m      8\u001b[0m                               \u001b[0mbins\u001b[0m\u001b[0;34m=\u001b[0m\u001b[0;36m100\u001b[0m\u001b[0;34m,\u001b[0m\u001b[0;34m\u001b[0m\u001b[0;34m\u001b[0m\u001b[0m\n",
      "\u001b[0;31mNameError\u001b[0m: name 'sns' is not defined"
     ]
    },
    {
     "data": {
      "image/png": "[encoded data removed]",
      "text/plain": [
       "<Figure size 576x432 with 1 Axes>"
      ]
     },
     "metadata": {
      "needs_background": "light"
     },
     "output_type": "display_data"
    }
   ],
   "source": [
    "# what do those two components look like?\n",
    "# plot the components PC0 and PC1 as a two category histogram\n",
    "\n",
    "with mpl.rc_context({'font.size': 14}):\n",
    "    fig, ax = plt.subplots(1, 1, figsize=(8, 6))\n",
    "    sns.histplot(pd.DataFrame(components,\n",
    "                              columns=['pc0','pc1']),\n",
    "                              bins=100,\n",
    "                              ax=ax,\n",
    "                              palette=sns.color_palette('Accent')[:2])\n",
    "    ax.set_xlabel('component value')\n",
    "    plt.xticks(rotation='45', ha='right')\n",
    "    plt.show()\n"
   ]
  },
  {
   "cell_type": "code",
   "execution_count": 30,
   "id": "dc30084e",
   "metadata": {},
   "outputs": [
    {
     "ename": "SyntaxError",
     "evalue": "invalid syntax (565101033.py, line 2)",
     "output_type": "error",
     "traceback": [
      "\u001b[0;36m  File \u001b[0;32m\"/var/folders/l1/lw5v0ldj28152tt1ds0t13300000gp/T/ipykernel_65635/565101033.py\"\u001b[0;36m, line \u001b[0;32m2\u001b[0m\n\u001b[0;31m    what discussed today:\u001b[0m\n\u001b[0m         ^\u001b[0m\n\u001b[0;31mSyntaxError\u001b[0m\u001b[0;31m:\u001b[0m invalid syntax\n"
     ]
    }
   ],
   "source": [
    "# Wrap up section\n",
    "what discussed today:\n",
    "    1.\n",
    "    2.\n",
    "    3."
   ]
  },
  {
   "cell_type": "code",
   "execution_count": null,
   "id": "61c9fc1c",
   "metadata": {},
   "outputs": [],
   "source": []
  }
 ],
 "metadata": {
  "kernelspec": {
   "display_name": "Python 3 (ipykernel)",
   "language": "python",
   "name": "python3"
  },
  "language_info": {
   "codemirror_mode": {
    "name": "ipython",
    "version": 3
   },
   "file_extension": ".py",
   "mimetype": "text/x-python",
   "name": "python",
   "nbconvert_exporter": "python",
   "pygments_lexer": "ipython3",
   "version": "3.9.7"
  }
 },
 "nbformat": 4,
 "nbformat_minor": 5
}
