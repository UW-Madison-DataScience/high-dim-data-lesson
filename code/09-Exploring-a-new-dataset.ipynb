{
 "cells": [
  {
   "cell_type": "code",
   "execution_count": null,
   "id": "7442710d-2a34-4b83-956d-86082aa2f6b9",
   "metadata": {},
   "outputs": [],
   "source": [
    "---\n",
    "title: Exploring additional datasets\n",
    "teaching: 45\n",
    "exercises: 2\n",
    "keypoints:\n",
    "- \"\"\n",
    "objectives:\n",
    "- \"\"\n",
    "questions:\n",
    "- \"How can we use everything we have learned to analyze a new dataset?\"\n",
    "---"
   ]
  },
  {
   "cell_type": "markdown",
   "id": "8b92d571-51de-4f3b-804f-a21ef13b6581",
   "metadata": {},
   "source": [
    "## Preprocessing"
   ]
  },
  {
   "cell_type": "code",
   "execution_count": null,
   "id": "61eea50c-7d17-459c-84cc-fbfc8f672664",
   "metadata": {},
   "outputs": [],
   "source": [
    "# train/test splits\n",
    "from sklearn.model_selection import train_test_split\n",
    "\n",
    "x_train, x_test, y_train, y_test = train_test_split(x, y_log, \n",
    "                                                    test_size=0.33, \n",
    "                                                    random_state=0)\n",
    "\n",
    "print(x_train.shape)\n",
    "print(x_test.shape)"
   ]
  },
  {
   "cell_type": "code",
   "execution_count": null,
   "id": "401b59ea-4e36-42e3-b146-5b3b5a7f07c8",
   "metadata": {},
   "outputs": [],
   "source": [
    "# encode predictors (one-hot encoding for categorical data) - note you may have to create a new function starting from a copy of this one\n",
    "from preprocessing import encode_predictors_housing_data\n",
    "X_encoded = encode_predictors_housing_data(X)"
   ]
  },
  {
   "cell_type": "code",
   "execution_count": null,
   "id": "07e6b301-6237-428b-8048-3377c17f1081",
   "metadata": {},
   "outputs": [],
   "source": [
    "# remove columns with nans or containing > 95% constant values (typically 0's)\n",
    "from preprocessing import remove_bad_cols\n",
    "X_good = remove_bad_cols(X, 95)"
   ]
  },
  {
   "cell_type": "code",
   "execution_count": null,
   "id": "cf6d170d-32cb-4680-98ff-802207762767",
   "metadata": {},
   "outputs": [],
   "source": [
    "# zscore\n",
    "from preprocessing import zscore\n",
    "# get means and stds\n",
    "train_means = X_train.mean()\n",
    "train_stds = X_train.std()\n",
    "X_train_z = zscore(df=X_train, train_means=train_means, train_stds=train_stds)\n",
    "X_test_z = zscore(df=X_test, train_means=train_means, train_stds=train_stds)\n",
    "X_train_z.head()"
   ]
  },
  {
   "cell_type": "code",
   "execution_count": null,
   "id": "02ff3605-c733-4309-a830-239503b43d99",
   "metadata": {},
   "outputs": [],
   "source": [
    "# get random predictor permutations...\n",
    "from preprocessing import get_predictor_combos\n",
    "sampled_combinations = get_predictor_combos(X_train=X_train, K=K, n=25)"
   ]
  },
  {
   "cell_type": "markdown",
   "id": "fda1b495-31fc-4f46-9dcd-c8ab2cc36118",
   "metadata": {},
   "source": [
    "## Model eval"
   ]
  },
  {
   "cell_type": "code",
   "execution_count": null,
   "id": "226e9d4b-6a3b-46eb-8ee3-7f8d6f4893d5",
   "metadata": {},
   "outputs": [],
   "source": [
    "# plot (1) true vs predicted vals for train/test sets and (2) best line of fit (only applies for univariate models)\n",
    "from regression_predict_sklearn import plot_train_test_predictions \n",
    "(fig1, fig2) = plot_train_test_predictions(predictors=[predictor],\n",
    "                                           X_train=x_train, X_test=x_test,\n",
    "                                           y_train=y_train, y_test=y_test,\n",
    "                                           y_pred_train=y_pred_train, y_pred_test=y_pred_test,\n",
    "                                           y_log_scaled=True, plot_raw=True);"
   ]
  },
  {
   "cell_type": "code",
   "execution_count": null,
   "id": "6e41d2dd-6b1a-475f-a735-191c2ae41c27",
   "metadata": {},
   "outputs": [],
   "source": [
    "# report baseline, train, and test errors\n",
    "from regression_predict_sklearn import measure_model_err\n",
    "error_df = measure_model_err(y=y, baseline_pred=baseline_predict,\n",
    "                             y_train=y_train, y_pred_train=y_pred_train, \n",
    "                             y_test=y_test, y_pred_test=y_pred_test, \n",
    "                             metric='MAPE', y_log_scaled=False) \n",
    "\n",
    "error_df.head()"
   ]
  },
  {
   "cell_type": "markdown",
   "id": "dc9f0060-c5c7-4cba-8f54-21c7ee8b53e6",
   "metadata": {},
   "source": [
    "## Comparing models...\n",
    "df_model_err = compare_models(y=y, baseline_pred=baseline_predict,\n",
    "                              X_train=X_train, y_train=y_train, \n",
    "                              X_val=X_val, y_val=y_val,\n",
    "                              predictors_list=X_train.columns, \n",
    "                              metric='RMSE', y_log_scaled=True, \n",
    "                              model_type='unregularized', \n",
    "                              include_plots=False, plot_raw=False, verbose=False)"
   ]
  }
 ],
 "metadata": {
  "kernelspec": {
   "display_name": "Python 3 (ipykernel)",
   "language": "python",
   "name": "python3"
  },
  "language_info": {
   "codemirror_mode": {
    "name": "ipython",
    "version": 3
   },
   "file_extension": ".py",
   "mimetype": "text/x-python",
   "name": "python",
   "nbconvert_exporter": "python",
   "pygments_lexer": "ipython3",
   "version": "3.11.4"
  }
 },
 "nbformat": 4,
 "nbformat_minor": 5
}
